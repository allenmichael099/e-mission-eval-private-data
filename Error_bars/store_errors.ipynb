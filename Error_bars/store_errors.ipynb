{
 "cells": [
  {
   "cell_type": "code",
   "execution_count": null,
   "metadata": {},
   "outputs": [],
   "source": [
    "%load_ext autoreload\n",
    "%autoreload 2\n",
    "\n",
    "import pandas as pd\n",
    "import numpy as np\n",
    "from uuid import UUID\n",
    "\n",
    "import matplotlib.pyplot as plt\n",
    "\n",
    "import sys\n",
    "sys.path.append('/Users/mallen2/alternate_branches/eval-compatible-server/e-mission-server')\n",
    "\n",
    "import emission.storage.timeseries.abstract_timeseries as esta\n",
    "import emission.storage.decorations.trip_queries as esdtq\n",
    "import emission.core.wrapper.user as ecwu\n",
    "\n",
    "import statistics\n",
    "\n",
    "import confusion_matrix_handling as cm_handling\n",
    "from confusion_matrix_handling import MODE_MAPPING_DICT\n",
    "\n",
    "import sklearn.model_selection as skm\n",
    "\n",
    "df_EI = pd.read_csv(r'Public_Dashboard/auxiliary_files/energy_intensity.csv')"
   ]
  },
  {
   "cell_type": "code",
   "execution_count": null,
   "metadata": {},
   "outputs": [],
   "source": [
    "# Base mode map for GIS\n",
    "gis_sensed_modes = {0 : 'no_sensed',    # UNKNOWN  #NOTE: this is important info to mention.\n",
    "        1 : 'walking',    # WALKING\n",
    "        2 : 'bicycling',    # BICYCLING\n",
    "        3 : 'bus',        # BUS\n",
    "        4 : 'train',      # TRAIN\n",
    "        5 : 'car',        # CAR\n",
    "        6 : 'air_or_hsr', # AIR_OR_HSR\n",
    "        7 : 'subway',      # SUBWAY\n",
    "        8 : 'train',      # TRAM\n",
    "        9 : 'train',      # LIGHT_RAIL\n",
    "}\n",
    "\n",
    "# Dictionary of energy intensities in kWH/PMT\n",
    "energy_dict = cm_handling.get_energy_dict(df_EI)\n",
    "\n",
    "\n",
    "# sensed_car -> (via MODE_MAPPING_DICT) “Gas Car, sensed” in energy dict, \n",
    "# which is used for the ground truth car intensity in get_conditional_EI_expectation_and_variance(). \n",
    "# Then the sensed mode will show car, but the EI used will be based on a car with a 1.5 person load factor.\n",
    "drove_alone_EI = energy_dict[\"Gas Car, drove alone\"]\n",
    "load_factor = 1\n",
    "energy_dict.update({\"Gas Car, sensed\": drove_alone_EI/load_factor})"
   ]
  },
  {
   "cell_type": "code",
   "execution_count": null,
   "metadata": {},
   "outputs": [],
   "source": [
    "## Sampling distance errors to get a distribution of possible distances.\n",
    "\n",
    "android_rel_dist_errors = pd.read_csv(\"android_rel_distance_errors.csv\")\n",
    "ios_rel_dist_errors = pd.read_csv(\"ios_rel_distance_errors.csv\")\n",
    "\n",
    "# Monte Carlo (MC) simulate android relative distance errors (R).\n",
    "android_R_MC = np.random.choice(android_rel_dist_errors['x'], size = 10**5, p= android_rel_dist_errors['p(x)'])\n",
    "ios_R_MC = np.random.choice(ios_rel_dist_errors['x'], size = 10**5, p= ios_rel_dist_errors['p(x)'])\n",
    "\n",
    "# Compute a Monte Carlo simulated (MCS) distance estimate for a unit length trip, given the relative error.\n",
    "# Inputs: inferred trip length of 1, randomly assigned relative error.\n",
    "# Output: an estimate of the \"true\" distance based on the relative error. \n",
    "# Since relative error is typically negative, the \"true\" distance will usually be bigger than the inferred distance.\n",
    "android_MCS_dist = 1/(1+ android_R_MC)\n",
    "ios_MCS_dist = 1/(1 + ios_R_MC)\n",
    "\n",
    "# Compute the sample means and variances.\n",
    "android_unit_dist_MCS_summary = {\"mean\": statistics.mean(android_MCS_dist), \"var\": statistics.variance(android_MCS_dist)}\n",
    "ios_unit_dist_MCS_summary = {\"mean\": statistics.mean(ios_MCS_dist), \"var\": statistics.variance(ios_MCS_dist)}\n",
    "\n",
    "unit_dist_MCS_df = pd.DataFrame({\"android\":android_unit_dist_MCS_summary, \"ios\":ios_unit_dist_MCS_summary})\n",
    "unit_dist_MCS_df.to_csv(\"/Users/mallen2/OpenPATH_Data/e-mission-eval-private-data/Error_bars/unit_distance_MCS.csv\", index_label= \"moment\")"
   ]
  },
  {
   "cell_type": "markdown",
   "metadata": {},
   "source": [
    "### Saving EI given predicted mode from confusion matrices"
   ]
  },
  {
   "cell_type": "code",
   "execution_count": null,
   "metadata": {},
   "outputs": [],
   "source": [
    "# Confusion matrices based on Gabe's paper.\n",
    "android_GIS_HAMFDC = np.array([\n",
    "    [24743,1595,564,682,235,359,2835,3365,436], \n",
    "    [230,10288,0,0,0,0,121,197,0],\n",
    "    [0,4957,0,0,0,0,107,0,0],\n",
    "    [0,4957,0,0,0,0,107,0,0], # Mock ebike values, copied from escooter (duration of true ebike given each mode prediction)\n",
    "    [0,0,7582,0,0,0,877,24,0],\n",
    "    [0,0,8414,15607,0,0,0,589,0],\n",
    "    [0,0,0,0,19651,0,0,24,0],\n",
    "    [795,825,0,2920,0,0,0,308,0],\n",
    "    [13,0,0,0,0,35726,0,415,0],\n",
    "    [941,0,115,0,0,0,0,0,0],\n",
    "    [823,223,18,1016,563,815,0,14735,0],\n",
    "    [1024,14,3,0,0,0,0,0,0]\n",
    "    ])\n",
    "\n",
    "ios_GIS_HAHFDC = np.array([\n",
    "    [26606,992,768,593,243,551,6033,145,1329],\n",
    "    [425,11938,0,0,0,0,1958,28,0],\n",
    "    [1314,4529,516,0,0,0,1119,2,0],\n",
    "    [1314,4529,516,0,0,0,1119,2,0], # Mock ebike values\n",
    "    [246,0,10922,0,0,0,2799,1,0],\n",
    "    [1041,190,11177,16877,0,0,0,98,0],\n",
    "    [0,0,0,0,19573,0,0,7,0],\n",
    "    [1829,0,0,3111,0,0,0,12,0],\n",
    "    [5,5,5836,0,0,31087,0,93,0],\n",
    "    [124,18,0,0,0,0,0,0,0],\n",
    "    [10430,1019,1032,1274,1682,1475,0,2457,0],\n",
    "    [2973,0,264,0,0,0,0,0,0]\n",
    "])\n",
    "\n",
    "sensing_predictions = [\"walking\", \"bicycling\",\"car\",\"bus\",\"subway\",\"train\", \"no_start\", \"no_middle\",\"no_end\"]\n",
    "sensing_gt = [\"walking\",\"bicycling\",\"escooter\",\"ebike\",\"sensed_car\", \"bus\", \"subway\",\"light_rail\",\"train\",\"no_gt_start\",\"no_gt_middle\",\"no_gt_end\"]\n",
    "\n",
    "android_confusion_GIS_HAMFDC = pd.DataFrame(android_GIS_HAMFDC, index = sensing_gt, columns= sensing_predictions)\n",
    "ios_confusion_GIS_HAHFDC = pd.DataFrame(ios_GIS_HAHFDC, index = sensing_gt, columns= sensing_predictions)\n",
    "#android_confusion_GIS_HAMFDC"
   ]
  },
  {
   "cell_type": "code",
   "execution_count": null,
   "metadata": {},
   "outputs": [],
   "source": [
    "android_confusion_GIS_HAMFDC\n",
    "android_confusion_GIS_HAMFDC/android_confusion_GIS_HAMFDC.sum(axis=0)"
   ]
  },
  {
   "cell_type": "code",
   "execution_count": null,
   "metadata": {},
   "outputs": [],
   "source": [
    "ios_confusion_GIS_HAHFDC['car'].sum() - android_confusion_GIS_HAMFDC['car'].sum()"
   ]
  },
  {
   "cell_type": "code",
   "execution_count": null,
   "metadata": {},
   "outputs": [],
   "source": [
    "android_confusion_GIS_HAMFDC['car']"
   ]
  },
  {
   "cell_type": "markdown",
   "metadata": {},
   "source": [
    "#### Construct multiple confusion matrices and EI moments with varied car precision."
   ]
  },
  {
   "cell_type": "code",
   "execution_count": null,
   "metadata": {},
   "outputs": [],
   "source": [
    "# Make sure the load factor is what we want.\n",
    "drove_alone_EI = energy_dict[\"Gas Car, drove alone\"]\n",
    "load_factor = 1\n",
    "energy_dict.update({\"Gas Car, sensed\": drove_alone_EI/load_factor})\n",
    "\n",
    "print('android car before:')\n",
    "print(list(android_confusion_GIS_HAMFDC['car']))\n",
    "\n",
    "precision_change_car_android = android_confusion_GIS_HAMFDC.copy()\n",
    "precision_change_car_ios = ios_confusion_GIS_HAHFDC.copy()\n",
    "\n",
    "android_car_prediction_total = android_confusion_GIS_HAMFDC['car'].sum()  # car column android\n",
    "ios_car_prediction_total = ios_confusion_GIS_HAHFDC['car'].sum()\n",
    "for j in range(0,4):\n",
    "    car_prob = 0.45 + (j + 1)*0.1\n",
    "    bus_prob = 0.45 - (j+1)*0.1\n",
    "    print(f\"{car_prob,bus_prob}\")\n",
    "\n",
    "    print('after')\n",
    "\n",
    "    precision_change_car_android['car'] = android_car_prediction_total* np.array([0, 0, 0, 0, car_prob, bus_prob, 0, 0, 0, 0, 0, 0])\n",
    "    precision_change_car_ios['car'] = ios_car_prediction_total* np.array([0, 0, 0, 0, car_prob, bus_prob, 0, 0, 0, 0, 0, 0])\n",
    "\n",
    "    print(list(precision_change_car_android['car']/android_car_prediction_total))\n",
    "\n",
    "    print(list(precision_change_car_android['car']))\n",
    "    \n",
    "    # Android\n",
    "    collapsed_android_cm = cm_handling.collapse_confusion_matrix(precision_change_car_android)\n",
    "    collapsed_android_cm = collapsed_android_cm.rename(mapper= MODE_MAPPING_DICT, axis=\"index\")\n",
    "\n",
    "    android_EI_moments = cm_handling.get_conditional_EI_expectation_and_variance(collapsed_android_cm,energy_dict)\n",
    "\n",
    "\n",
    "    # IOS\n",
    "    collapsed_ios_cm = cm_handling.collapse_confusion_matrix(precision_change_car_ios)\n",
    "    collapsed_ios_cm = collapsed_ios_cm.rename(mapper= MODE_MAPPING_DICT, axis=\"index\")\n",
    "\n",
    "    ios_EI_moments = cm_handling.get_conditional_EI_expectation_and_variance(collapsed_ios_cm,energy_dict)\n",
    "\n",
    "    # Store them\n",
    "    android_EI_moments.to_csv(\"/Users/mallen2/OpenPATH_Data/e-mission-eval-private-data/Error_bars/android_EI_moments_no_shared_ride_car_precision_adjustment_\"+ str(j) + \".csv\", index_label= \"mode\")\n",
    "    ios_EI_moments.to_csv(\"/Users/mallen2/OpenPATH_Data/e-mission-eval-private-data/Error_bars/ios_EI_moments_no_shared_ride_car_precision_adjustment_\"+ str(j) + \".csv\", index_label = \"mode\")\n"
   ]
  },
  {
   "cell_type": "code",
   "execution_count": null,
   "metadata": {},
   "outputs": [],
   "source": [
    "android_EI_moments_l15 = pd.read_csv('android_EI_moments.csv') # load 1.5\n",
    "print(android_EI_moments_l15)\n",
    "\n",
    "print(pd.read_csv('android_EI_moments_no_shared_ride.csv')) # load 1"
   ]
  },
  {
   "cell_type": "code",
   "execution_count": null,
   "metadata": {},
   "outputs": [],
   "source": [
    "energy_dict"
   ]
  },
  {
   "cell_type": "code",
   "execution_count": null,
   "metadata": {},
   "outputs": [],
   "source": [
    "#### Confusion matrices where we have a load factor of 1 and do not worry about shared ride.\n",
    "drove_alone_EI = energy_dict[\"Gas Car, drove alone\"]\n",
    "load_factor = 1\n",
    "energy_dict.update({\"Gas Car, sensed\": drove_alone_EI/load_factor})\n",
    "\n",
    "# Get conditional energy intensity distributions and their first and second moments (mean and variance)\n",
    "\n",
    "# Android\n",
    "collapsed_android_cm = cm_handling.collapse_confusion_matrix(android_confusion_GIS_HAMFDC)\n",
    "collapsed_android_cm = collapsed_android_cm.rename(mapper= MODE_MAPPING_DICT, axis=\"index\")\n",
    "\n",
    "android_EI_moments = cm_handling.get_conditional_EI_expectation_and_variance(collapsed_android_cm,energy_dict)\n",
    "\n",
    "\n",
    "# IOS\n",
    "collapsed_ios_cm = cm_handling.collapse_confusion_matrix(ios_confusion_GIS_HAHFDC)\n",
    "collapsed_ios_cm = collapsed_ios_cm.rename(mapper= MODE_MAPPING_DICT, axis=\"index\")\n",
    "\n",
    "ios_EI_moments = cm_handling.get_conditional_EI_expectation_and_variance(collapsed_ios_cm,energy_dict)\n",
    "\n",
    "# Store them\n",
    "android_EI_moments.to_csv(\"/Users/mallen2/OpenPATH_Data/e-mission-eval-private-data/Error_bars/android_EI_moments_no_shared_ride.csv\", index_label= \"mode\")\n",
    "ios_EI_moments.to_csv(\"/Users/mallen2/OpenPATH_Data/e-mission-eval-private-data/Error_bars/ios_EI_moments_no_shared_ride.csv\", index_label = \"mode\")"
   ]
  },
  {
   "cell_type": "markdown",
   "metadata": {},
   "source": [
    "#### An attempt at a bayesian usage of the confusion matrix"
   ]
  },
  {
   "cell_type": "code",
   "execution_count": null,
   "metadata": {},
   "outputs": [],
   "source": [
    "# A look at a row weighted confusion matrix\n",
    "row_sums = ios_confusion_GIS_HAHFDC.sum(axis=1)\n",
    "\n",
    "ios_confusion_GIS_HAHFDC.divide(row_sums,axis='rows')"
   ]
  },
  {
   "cell_type": "code",
   "execution_count": null,
   "metadata": {},
   "outputs": [],
   "source": [
    "cm = ios_confusion_GIS_HAHFDC"
   ]
  },
  {
   "cell_type": "code",
   "execution_count": null,
   "metadata": {},
   "outputs": [],
   "source": [
    "# Row sum over matrix sum.\n",
    "P_gt_is_x = cm.sum(axis=1)/cm.sum().sum()"
   ]
  },
  {
   "cell_type": "code",
   "execution_count": null,
   "metadata": {},
   "outputs": [],
   "source": [
    "P_gt_is_x # within mobilitynet. should maybe instead use prior probability."
   ]
  },
  {
   "cell_type": "code",
   "execution_count": null,
   "metadata": {},
   "outputs": [],
   "source": [
    "P_predict_car_given_gt_is_x = cm[\"car\"]/cm.sum(axis=1)"
   ]
  },
  {
   "cell_type": "code",
   "execution_count": null,
   "metadata": {},
   "outputs": [],
   "source": [
    "(0.78*0.8)/sum(P_predict_car_given_gt_is_x*P_gt_is_x)"
   ]
  },
  {
   "cell_type": "code",
   "execution_count": null,
   "metadata": {},
   "outputs": [],
   "source": [
    "sum(P_predict_car_given_gt_is_x)"
   ]
  },
  {
   "cell_type": "code",
   "execution_count": null,
   "metadata": {},
   "outputs": [],
   "source": [
    "cm.sum(axis=1)"
   ]
  },
  {
   "cell_type": "code",
   "execution_count": null,
   "metadata": {},
   "outputs": [],
   "source": [
    "ios_confusion_GIS_HAHFDC"
   ]
  },
  {
   "cell_type": "markdown",
   "metadata": {},
   "source": [
    "### The code below was used to generate MODE_MAPPING_DICT.\n",
    "As seen in confusion_matrix_handling.py"
   ]
  },
  {
   "cell_type": "code",
   "execution_count": null,
   "metadata": {},
   "outputs": [],
   "source": [
    "# dic_re is generated in mapping_dictionaries.ipynb\n",
    "%store -r dic_re\n",
    "# Note: dic_mode is most relevant for energy and carbon intensities. We may want to use a different mapping for mode share.\n",
    "dic_mode = dic_re.copy()\n",
    "\n",
    "# Add old mode labels.\n",
    "old_mode_labels = {\"Bike\": \"Regular Bike\", \"pilot_ebike\": \"Pilot ebike\",\"e-bike\": \"Pilot ebike\",\n",
    "                    \"Drove Alone\": \"Gas Car, drove alone\", \n",
    "                    \"Shared Ride\": \"Gas Car, with others\", \n",
    "                    \"taxi\": \"Taxi/Uber/Lyft\",\n",
    "                    \"Air\": \"Air\"}\n",
    "\n",
    "dic_mode.update(old_mode_labels)\n",
    "\n",
    "# Add the mode labels from the energy intensity csv just in case.\n",
    "dic_mode.update({m:m for m in df_EI['mode']}) \n",
    "\n",
    "# Add the ground truth labels from mobilitynet.\n",
    "mobilitynet_gis_gt = {\n",
    "    \"walking\": \"Walk\",\n",
    "    \"bicycling\": \"Regular Bike\",\n",
    "    \"escooter\": \"Scooter share\",\n",
    "    \"ebike\": \"Pilot ebike\",\n",
    "    \"car\": \"Gas Car, drove alone\",  # car BTU: 5170,     #1 BTU = 0.000293071 kWH\n",
    "    \"bus\": \"Bus\",  # bus BTU: 4560\n",
    "    \"subway\": \"Train\",     # using train value\n",
    "    \"light_rail\": \"Train\",  # using train value\n",
    "    \"train\": \"Train\",\n",
    "    \"no_gt\": \"no_gt\"\n",
    "}\n",
    "\n",
    "# There is a difference between the ground truth possible values and the possible inferred values.\n",
    "\n",
    "\n",
    "# Add other label assist labels\n",
    "la_mode = {'air': \"Air\",  \n",
    "    'car': \"Gas Car, drove alone\",\n",
    "    'electric_vehicle': \"E-car, drove alone\",\n",
    "    'skiing': \"Walk\",\n",
    "    'snowboarding': \"Walk\",\n",
    "    'subway': \"Train\" } \n",
    "\n",
    "dic_mode.update(la_mode)\n",
    "dic_mode.update(mobilitynet_gis_gt)\n",
    "dic_mode.update({\"air_or_hsr\": \"train\", \"no_sensed\":\"Not a Trip\", \"sensed_car\": \"Gas Car, sensed\"})\n",
    "\n",
    "#dic_mode = defaultdict(lambda: 'Other',dic_mode) # not in use at the moment since we have no  \"other\" EI"
   ]
  },
  {
   "cell_type": "code",
   "execution_count": null,
   "metadata": {},
   "outputs": [],
   "source": [
    "dic_mode"
   ]
  }
 ],
 "metadata": {
  "kernelspec": {
   "display_name": "Python 3.7.12 ('emission-private-eval')",
   "language": "python",
   "name": "python3"
  },
  "language_info": {
   "codemirror_mode": {
    "name": "ipython",
    "version": 3
   },
   "file_extension": ".py",
   "mimetype": "text/x-python",
   "name": "python",
   "nbconvert_exporter": "python",
   "pygments_lexer": "ipython3",
   "version": "3.7.12"
  },
  "orig_nbformat": 4,
  "vscode": {
   "interpreter": {
    "hash": "73ac5b45931ab4dd3f8e07a8d0e5daf0146eed4821bf42374f6ac6fa4af28c83"
   }
  }
 },
 "nbformat": 4,
 "nbformat_minor": 2
}
