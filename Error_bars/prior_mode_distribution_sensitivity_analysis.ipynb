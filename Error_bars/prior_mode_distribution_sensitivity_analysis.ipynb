{
 "cells": [
  {
   "cell_type": "code",
   "execution_count": 1,
   "metadata": {},
   "outputs": [],
   "source": [
    "%load_ext autoreload\n",
    "%autoreload 2\n",
    "\n",
    "import pandas as pd\n",
    "import numpy as np\n",
    "from uuid import UUID\n",
    "\n",
    "import matplotlib.pyplot as plt\n",
    "\n",
    "import confusion_matrix_handling as cm_handling\n",
    "from confusion_matrix_handling import MODE_MAPPING_DICT\n",
    "import get_EC\n",
    "import helper_functions as hf\n",
    "\n",
    "import sklearn.model_selection as skm\n",
    "\n",
    "from sklearn.model_selection import KFold\n",
    "from sklearn import linear_model\n",
    "\n",
    "METERS_TO_MILES = 0.000621371 # 1 meter = 0.000621371 miles\n",
    "ECAR_PROPORTION = 0 #0.01 #~1% of cars on the road are electric.\n",
    "DROVE_ALONE_TO_SHARED_RIDE_RATIO = 1\n",
    "\n",
    "df_EI = pd.read_csv(r'Public_Dashboard/auxiliary_files/energy_intensity.csv') # r stands for raw string, only matters if the path is on Windows"
   ]
  },
  {
   "cell_type": "code",
   "execution_count": 3,
   "metadata": {},
   "outputs": [],
   "source": [
    "import database_related_functions as drf  # all the emission server functions for this notebook are in here.\n",
    "user_list, os_map, uuid_program_map = drf.get_participants_programs_and_operating_systems()\n",
    "#print(len(user_list), len(os_map), len(uuid_program_map))\n",
    "\n",
    "# Takes 6 to 14 minutes for the full 1.5 year CEO study plus stage and prepilot.\n",
    "# Takes ~ 1 min 45 s to 2 min 45 s on Macbook Pro for all ceo data up to May 2022.\n",
    "expanded_labeled_trips = drf.get_expanded_labeled_trips(user_list)\n",
    "expanded_labeled_trips['os'] = expanded_labeled_trips.user_id.map(os_map)\n",
    "expanded_labeled_trips['program'] = expanded_labeled_trips['user_id'].map(uuid_program_map)\n",
    "\n",
    "expanded_labeled_trips = expanded_labeled_trips.drop(labels = ['source', 'end_fmt_time', 'end_loc', 'raw_trip',\n",
    "    'start_fmt_time', 'start_loc','start_local_dt_year', 'start_local_dt_month', 'start_local_dt_day',\n",
    "    'start_local_dt_hour', 'start_local_dt_minute', 'start_local_dt_second',\n",
    "    'start_local_dt_weekday', 'start_local_dt_timezone',\n",
    "    'end_local_dt_year', 'end_local_dt_month', 'end_local_dt_day',\n",
    "    'end_local_dt_hour', 'end_local_dt_minute', 'end_local_dt_second',\n",
    "    'end_local_dt_weekday', 'end_local_dt_timezone'], axis = 1)\n",
    "\n",
    "expanded_labeled_trips['distance_miles'] = expanded_labeled_trips.distance*METERS_TO_MILES\n",
    "\n",
    "# Group together the prepilot participants\n",
    "prepilot_list = ['84Q9SsrH','cwZazZLJ','CudLAeg8','sxxcLqbK','Q8T7QTXK','5KEGHHuf','e9MaNVU7','7c797MRD','rhBZukxY','k36cxmfA','FmxVf8u6','F3jxHLSW']\n",
    "expanded_labeled_trips['program'] = expanded_labeled_trips.program.replace(prepilot_list, \"prepilot\")"
   ]
  },
  {
   "cell_type": "code",
   "execution_count": 2,
   "metadata": {},
   "outputs": [],
   "source": [
    "%store -r expanded_labeled_trips"
   ]
  },
  {
   "cell_type": "code",
   "execution_count": 3,
   "metadata": {},
   "outputs": [],
   "source": [
    "unit_dist_MCS_df = pd.read_csv(\"unit_distance_MCS.csv\").set_index(\"moment\")\n",
    "energy_dict = cm_handling.get_energy_dict(df_EI)"
   ]
  },
  {
   "cell_type": "code",
   "execution_count": 4,
   "metadata": {},
   "outputs": [
    {
     "name": "stdout",
     "output_type": "stream",
     "text": [
      "Dropping user labeled AIR trips and trips with no OS.\n",
      "Dropped 93 trips with no sensed sections.\n",
      "Here are the number of labeled trips remaining in each program dataset:\n"
     ]
    },
    {
     "data": {
      "text/plain": [
       "cc          28768\n",
       "pc          17880\n",
       "fc          11744\n",
       "stage       10715\n",
       "sc           9092\n",
       "vail         6348\n",
       "4c           5262\n",
       "prepilot     2425\n",
       "Name: program, dtype: int64"
      ]
     },
     "execution_count": 4,
     "metadata": {},
     "output_type": "execute_result"
    }
   ],
   "source": [
    "expanded_labeled_trips = hf.drop_unwanted_trips(expanded_labeled_trips,drop_not_a_trip=False)\n",
    "expanded_labeled_trips = hf.get_primary_modes(expanded_labeled_trips,energy_dict,MODE_MAPPING_DICT)\n",
    "print('Here are the number of labeled trips remaining in each program dataset:')\n",
    "expanded_labeled_trips.program.value_counts()"
   ]
  },
  {
   "cell_type": "code",
   "execution_count": 5,
   "metadata": {},
   "outputs": [],
   "source": [
    "# Get the confusion matrices and then the EI moments from those.\n",
    "android_confusion = pd.read_csv(\"android_confusion.csv\").set_index('gt_mode')\n",
    "ios_confusion = pd.read_csv(\"ios_confusion.csv\").set_index('gt_mode')\n",
    "\n",
    "android_confusion = cm_handling.collapse_confusion_matrix(android_confusion, rows_to_collapse={\"Train\": [\"Train\"]}, columns_to_collapse={})\n",
    "ios_confusion = cm_handling.collapse_confusion_matrix(ios_confusion, rows_to_collapse={\"Train\": [\"Train\"]}, columns_to_collapse={})\n",
    "\n",
    "# here I'm referring to car_load_factor the number that we divide the drove alone energy intensity by\n",
    "# for r = 1, car_load_factor is 4/3.\n",
    "sensed_car_EI = hf.find_sensed_car_energy_intensity(energy_dict, ECAR_PROPORTION, DROVE_ALONE_TO_SHARED_RIDE_RATIO)\n",
    "energy_dict.update({\"Car, sensed\": sensed_car_EI})\n",
    "expanded_labeled_trips['distance_miles'] = expanded_labeled_trips.distance*METERS_TO_MILES\n",
    "EI_length_cov = 0"
   ]
  },
  {
   "cell_type": "code",
   "execution_count": 6,
   "metadata": {},
   "outputs": [],
   "source": [
    "# note. Approach differently if the android ground truth modes are not the same set as ios ground truth modes in the test dataset.\n",
    "available_ground_truth_modes = android_confusion.index\n",
    "uniform_prior = hf.construct_prior_dict({},available_ground_truth_modes)\n",
    "mostly_car_prior = hf.construct_prior_dict({\"Car, sensed\": 0.80, \"Pilot ebike\": 0.05}, available_ground_truth_modes)\n",
    "mostly_ebike_prior = hf.construct_prior_dict({\"Pilot ebike\": 0.80, \"Pilot ebike\": 0.05}, available_ground_truth_modes)\n",
    "mostly_train_prior = hf.construct_prior_dict({\"Train\": 0.30}, available_ground_truth_modes)\n",
    "half_car = hf.construct_prior_dict({\"Car, sensed\": 0.50}, available_ground_truth_modes)\n",
    "half_ebike = hf.construct_prior_dict({\"Pilot ebike\": 0.50}, available_ground_truth_modes)\n",
    "close_to_CEO_true_car_and_ebike = hf.construct_prior_dict({\"Car, sensed\": 0.7, \"Pilot ebike\": 0.13}, available_ground_truth_modes)\n",
    "\n",
    "\n",
    "\n",
    "prior_mode_distributions_map = {\n",
    "    \"80 Percent Car\": mostly_car_prior,\n",
    "    \"80 Percent Ebike\": mostly_ebike_prior,\n",
    "    \"30 Percent Train\": mostly_train_prior,\n",
    "    \"50 Percent Car\": half_car,\n",
    "    \"50 Percent Ebike\": half_ebike,\n",
    "    \"No Bayes Update\": {},\n",
    "    \"MobilityNet Specific to OS\": {},\n",
    "    \"Uniform Prior\": uniform_prior,\n",
    "    \"Close to CEO Mode Distribution\": close_to_CEO_true_car_and_ebike,\n",
    "}\n",
    "#prior_and_error_dataframe_vail,_  = hf.prior_mode_distribution_sensitivity_analysis(expanded_labeled_trips[expanded_labeled_trips.program == 'vail'], prior_mode_distributions_map, android_confusion, ios_confusion, unit_dist_MCS_df, energy_dict, EI_length_cov)"
   ]
  },
  {
   "cell_type": "code",
   "execution_count": 33,
   "metadata": {},
   "outputs": [
    {
     "name": "stdout",
     "output_type": "stream",
     "text": [
      "80 Percent Car\n",
      "Computing energy consumption for each trip.\n",
      "Using EI length covariance = 0.\n",
      "80 Percent Ebike\n",
      "Computing energy consumption for each trip.\n",
      "Using EI length covariance = 0.\n",
      "30 Percent Train\n",
      "Computing energy consumption for each trip.\n",
      "Using EI length covariance = 0.\n",
      "50 Percent Car\n",
      "Computing energy consumption for each trip.\n",
      "Using EI length covariance = 0.\n",
      "50 Percent Ebike\n",
      "Computing energy consumption for each trip.\n",
      "Using EI length covariance = 0.\n",
      "No Bayes Update\n",
      "Computing energy consumption for each trip.\n",
      "Using EI length covariance = 0.\n",
      "MobilityNet Specific to OS\n",
      "Computing energy consumption for each trip.\n",
      "Using EI length covariance = 0.\n",
      "Uniform Prior\n",
      "Computing energy consumption for each trip.\n",
      "Using EI length covariance = 0.\n",
      "Close to CEO Mode Distribution\n",
      "Computing energy consumption for each trip.\n",
      "Using EI length covariance = 0.\n"
     ]
    }
   ],
   "source": [
    "prior_and_error_dataframe,_  = hf.prior_mode_distribution_sensitivity_analysis(expanded_labeled_trips, prior_mode_distributions_map, android_confusion, ios_confusion, unit_dist_MCS_df, energy_dict, EI_length_cov)"
   ]
  },
  {
   "cell_type": "code",
   "execution_count": 35,
   "metadata": {},
   "outputs": [
    {
     "name": "stdout",
     "output_type": "stream",
     "text": [
      "\\begin{tabular}{lrrr}\n",
      "\\toprule\n",
      "                 Prior Name &  Percent Error &  Estimated Standard Deviation (SD) &  Number of Standard Deviations to Truth \\\\\n",
      "\\midrule\n",
      "             80 Percent Car &          21.99 &                          136955.85 &                                    0.76 \\\\\n",
      "            No Bayes Update &           9.17 &                          170977.64 &                                    0.25 \\\\\n",
      " MobilityNet Specific to OS &           9.17 &                          170977.64 &                                    0.25 \\\\\n",
      "              Uniform Prior &          14.00 &                          158802.60 &                                    0.41 \\\\\n",
      "\\bottomrule\n",
      "\\end{tabular}\n",
      "\n"
     ]
    }
   ],
   "source": [
    "priors_for_paper = [\"80 Percent Car\", \"No Bayes Update\", \"MobilityNet Specific to OS\", \"Uniform Prior\"]\n",
    "print(prior_and_error_dataframe.query('`Prior Name` == @priors_for_paper').round(2).to_latex(index=False))"
   ]
  },
  {
   "cell_type": "code",
   "execution_count": 7,
   "metadata": {},
   "outputs": [
    {
     "name": "stdout",
     "output_type": "stream",
     "text": [
      "80 Percent Car\n",
      "Computing energy consumption for each trip.\n",
      "Using EI length covariance = 0.\n",
      "80 Percent Ebike\n",
      "Computing energy consumption for each trip.\n",
      "Using EI length covariance = 0.\n",
      "30 Percent Train\n",
      "Computing energy consumption for each trip.\n",
      "Using EI length covariance = 0.\n",
      "50 Percent Car\n",
      "Computing energy consumption for each trip.\n",
      "Using EI length covariance = 0.\n",
      "50 Percent Ebike\n",
      "Computing energy consumption for each trip.\n",
      "Using EI length covariance = 0.\n",
      "No Bayes Update\n",
      "Computing energy consumption for each trip.\n",
      "Using EI length covariance = 0.\n",
      "MobilityNet Specific to OS\n",
      "Computing energy consumption for each trip.\n",
      "Using EI length covariance = 0.\n",
      "Uniform Prior\n",
      "Computing energy consumption for each trip.\n",
      "Using EI length covariance = 0.\n",
      "Close to CEO Mode Distribution\n",
      "Computing energy consumption for each trip.\n",
      "Using EI length covariance = 0.\n"
     ]
    }
   ],
   "source": [
    "prior_and_error_dataframe_cc,_  = hf.prior_mode_distribution_sensitivity_analysis(expanded_labeled_trips[expanded_labeled_trips.program == \"cc\"], prior_mode_distributions_map, android_confusion, ios_confusion, unit_dist_MCS_df, energy_dict, EI_length_cov)"
   ]
  },
  {
   "cell_type": "code",
   "execution_count": null,
   "metadata": {},
   "outputs": [],
   "source": [
    "prior_mode_distributions_map = {\"Uniform Prior\": uniform_prior}\n",
    "uniform_prior_dataframe_map = {}\n",
    "for program in expanded_labeled_trips.program.unique():\n",
    "    print(program)\n",
    "    uniform_prior_df, _ = hf.prior_mode_distribution_sensitivity_analysis(\n",
    "        expanded_labeled_trips[expanded_labeled_trips.program == program], \n",
    "        prior_mode_distributions_map, android_confusion, ios_confusion, \n",
    "        unit_dist_MCS_df, energy_dict, EI_length_cov\n",
    "        )\n",
    "    uniform_prior_df[\"program\"] = program\n",
    "    uniform_prior_dataframe_map[program] = uniform_prior_df\n",
    "uniform_prior_df_all_programs = pd.concat(uniform_prior_dataframe_map, ignore_index=True)"
   ]
  },
  {
   "cell_type": "code",
   "execution_count": 13,
   "metadata": {},
   "outputs": [
    {
     "data": {
      "text/html": [
       "<div>\n",
       "<style scoped>\n",
       "    .dataframe tbody tr th:only-of-type {\n",
       "        vertical-align: middle;\n",
       "    }\n",
       "\n",
       "    .dataframe tbody tr th {\n",
       "        vertical-align: top;\n",
       "    }\n",
       "\n",
       "    .dataframe thead th {\n",
       "        text-align: right;\n",
       "    }\n",
       "</style>\n",
       "<table border=\"1\" class=\"dataframe\">\n",
       "  <thead>\n",
       "    <tr style=\"text-align: right;\">\n",
       "      <th></th>\n",
       "      <th>Prior Name</th>\n",
       "      <th>Percent Error</th>\n",
       "      <th>Estimated Standard Deviation (SD)</th>\n",
       "      <th>Number of Standard Deviations to Truth</th>\n",
       "    </tr>\n",
       "    <tr>\n",
       "      <th>program</th>\n",
       "      <th></th>\n",
       "      <th></th>\n",
       "      <th></th>\n",
       "      <th></th>\n",
       "    </tr>\n",
       "  </thead>\n",
       "  <tbody>\n",
       "    <tr>\n",
       "      <th>sc</th>\n",
       "      <td>Uniform Prior</td>\n",
       "      <td>8.680951</td>\n",
       "      <td>8180.883109</td>\n",
       "      <td>0.400043</td>\n",
       "    </tr>\n",
       "    <tr>\n",
       "      <th>fc</th>\n",
       "      <td>Uniform Prior</td>\n",
       "      <td>17.648382</td>\n",
       "      <td>9644.569281</td>\n",
       "      <td>0.709180</td>\n",
       "    </tr>\n",
       "    <tr>\n",
       "      <th>4c</th>\n",
       "      <td>Uniform Prior</td>\n",
       "      <td>2.143461</td>\n",
       "      <td>10143.262349</td>\n",
       "      <td>0.050230</td>\n",
       "    </tr>\n",
       "    <tr>\n",
       "      <th>stage</th>\n",
       "      <td>Uniform Prior</td>\n",
       "      <td>4.110845</td>\n",
       "      <td>22301.729757</td>\n",
       "      <td>0.137969</td>\n",
       "    </tr>\n",
       "    <tr>\n",
       "      <th>pc</th>\n",
       "      <td>Uniform Prior</td>\n",
       "      <td>28.879580</td>\n",
       "      <td>31489.776542</td>\n",
       "      <td>0.880324</td>\n",
       "    </tr>\n",
       "    <tr>\n",
       "      <th>vail</th>\n",
       "      <td>Uniform Prior</td>\n",
       "      <td>9.573135</td>\n",
       "      <td>14729.696118</td>\n",
       "      <td>0.211626</td>\n",
       "    </tr>\n",
       "    <tr>\n",
       "      <th>cc</th>\n",
       "      <td>Uniform Prior</td>\n",
       "      <td>12.217138</td>\n",
       "      <td>64144.146505</td>\n",
       "      <td>0.295193</td>\n",
       "    </tr>\n",
       "    <tr>\n",
       "      <th>prepilot</th>\n",
       "      <td>Uniform Prior</td>\n",
       "      <td>19.952889</td>\n",
       "      <td>3450.215716</td>\n",
       "      <td>0.698082</td>\n",
       "    </tr>\n",
       "  </tbody>\n",
       "</table>\n",
       "</div>"
      ],
      "text/plain": [
       "             Prior Name  Percent Error  Estimated Standard Deviation (SD)  \\\n",
       "program                                                                     \n",
       "sc        Uniform Prior       8.680951                        8180.883109   \n",
       "fc        Uniform Prior      17.648382                        9644.569281   \n",
       "4c        Uniform Prior       2.143461                       10143.262349   \n",
       "stage     Uniform Prior       4.110845                       22301.729757   \n",
       "pc        Uniform Prior      28.879580                       31489.776542   \n",
       "vail      Uniform Prior       9.573135                       14729.696118   \n",
       "cc        Uniform Prior      12.217138                       64144.146505   \n",
       "prepilot  Uniform Prior      19.952889                        3450.215716   \n",
       "\n",
       "          Number of Standard Deviations to Truth  \n",
       "program                                           \n",
       "sc                                      0.400043  \n",
       "fc                                      0.709180  \n",
       "4c                                      0.050230  \n",
       "stage                                   0.137969  \n",
       "pc                                      0.880324  \n",
       "vail                                    0.211626  \n",
       "cc                                      0.295193  \n",
       "prepilot                                0.698082  "
      ]
     },
     "execution_count": 13,
     "metadata": {},
     "output_type": "execute_result"
    }
   ],
   "source": [
    "# these percent errors seem similar to those we get with the predicted values and no uncertainty.\n",
    "uniform_prior_df_all_programs.set_index('program')"
   ]
  },
  {
   "cell_type": "code",
   "execution_count": 7,
   "metadata": {},
   "outputs": [
    {
     "data": {
      "text/plain": [
       "gt_mode\n",
       "Walk               0.204984\n",
       "Regular Bike       0.063802\n",
       "Scooter share      0.029817\n",
       "Pilot ebike        0.029817\n",
       "Car, sensed    0.049948\n",
       "Bus                0.144903\n",
       "no_gt              0.119467\n",
       "Train              0.357264\n",
       "dtype: float64"
      ]
     },
     "execution_count": 7,
     "metadata": {},
     "output_type": "execute_result"
    }
   ],
   "source": [
    "durations_in_modes = android_confusion.sum(axis=1)\n",
    "prior_mode_probs = durations_in_modes/android_confusion.sum().sum()\n",
    "\n",
    "\n",
    "# for each prior: compute energy consumption.\n",
    "android_EI_moments_df = cm_handling.get_conditional_EI_expectation_and_variance(android_confusion,energy_dict)\n",
    "ios_EI_moments_df = cm_handling.get_conditional_EI_expectation_and_variance(ios_confusion,energy_dict)\n",
    "os_EI_moments_map = {'ios': ios_EI_moments_df, 'android': android_EI_moments_df}\n",
    "prior_mode_probs"
   ]
  },
  {
   "cell_type": "markdown",
   "metadata": {},
   "source": [
    "### Sensitivity Analysis: vary the prior mode distribution"
   ]
  },
  {
   "cell_type": "code",
   "execution_count": null,
   "metadata": {},
   "outputs": [],
   "source": [
    "prior_probs_prespecified = {\"Car, sensed\": 0.85, \"Pilot ebike\": 0.05}\n",
    "prior_probs = prior_probs_prespecified.copy()\n",
    "n_other_modes = len(android_confusion.index) - len(prior_probs_prespecified)\n",
    "probability_remaining = 1 - sum(prior_probs_prespecified.values())\n",
    "prior_probs.update({x: probability_remaining/n_other_modes for x in android_confusion.index if x not in prior_probs_prespecified.keys()})\n",
    "#prior_probs = {x: 1/len(android_confusion.index) for x in android_confusion.index} # if you want a uniform prior.\n",
    "\n",
    "android_EI_moments_with_Bayes_update_df = cm_handling.get_Bayesian_conditional_EI_expectation_and_variance(android_confusion,energy_dict, prior_probs)\n",
    "ios_EI_moments_with_Bayes_update_df = cm_handling.get_Bayesian_conditional_EI_expectation_and_variance(ios_confusion,energy_dict, prior_probs)\n",
    "os_EI_moments_with_Bayes_update_map = {'ios': ios_EI_moments_with_Bayes_update_df, 'android': android_EI_moments_with_Bayes_update_df}\n",
    "energy_consumption_with_Bayes_update_df = get_EC.compute_all_EC_values(expanded_labeled_trips,unit_dist_MCS_df,energy_dict,\\\n",
    "    android_EI_moments_with_Bayes_update_df,\\\n",
    "    ios_EI_moments_with_Bayes_update_df, \\\n",
    "    EI_length_cov, print_info=False)"
   ]
  }
 ],
 "metadata": {
  "kernelspec": {
   "display_name": "Python 3.7.12 ('emission-private-eval')",
   "language": "python",
   "name": "python3"
  },
  "language_info": {
   "codemirror_mode": {
    "name": "ipython",
    "version": 3
   },
   "file_extension": ".py",
   "mimetype": "text/x-python",
   "name": "python",
   "nbconvert_exporter": "python",
   "pygments_lexer": "ipython3",
   "version": "3.7.12"
  },
  "orig_nbformat": 4,
  "vscode": {
   "interpreter": {
    "hash": "73ac5b45931ab4dd3f8e07a8d0e5daf0146eed4821bf42374f6ac6fa4af28c83"
   }
  }
 },
 "nbformat": 4,
 "nbformat_minor": 2
}
