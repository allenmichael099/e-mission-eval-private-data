{
 "cells": [
  {
   "cell_type": "markdown",
   "metadata": {},
   "source": [
    "# Looks at cumulative energy consumption at various time points within a study.\n",
    "Is the uncertainty reasonable at each point? Looks like yes. Possibly a bit0 wider than needed."
   ]
  },
  {
   "cell_type": "code",
   "execution_count": 12,
   "metadata": {},
   "outputs": [
    {
     "name": "stdout",
     "output_type": "stream",
     "text": [
      "The autoreload extension is already loaded. To reload it, use:\n",
      "  %reload_ext autoreload\n"
     ]
    }
   ],
   "source": [
    "%load_ext autoreload\n",
    "%autoreload 2\n",
    "\n",
    "import pandas as pd\n",
    "import numpy as np\n",
    "from uuid import UUID\n",
    "\n",
    "import matplotlib.pyplot as plt\n",
    "\n",
    "import confusion_matrix_handling as cm_handling\n",
    "from confusion_matrix_handling import MODE_MAPPING_DICT\n",
    "import get_EC\n",
    "import helper_functions as hf\n",
    "\n",
    "import sklearn.model_selection as skm\n",
    "\n",
    "from sklearn.model_selection import KFold\n",
    "from sklearn import linear_model\n",
    "\n",
    "METERS_TO_MILES = 0.000621371 # 1 meter = 0.000621371 miles\n",
    "ECAR_PROPORTION = 0 #0.01 #~1% of cars on the road are electric.\n",
    "DROVE_ALONE_TO_SHARED_RIDE_RATIO = 1\n",
    "\n",
    "df_EI = pd.read_csv(r'Public_Dashboard/auxiliary_files/energy_intensity.csv') # r stands for raw string, only matters if the path is on Windows"
   ]
  },
  {
   "cell_type": "code",
   "execution_count": 13,
   "metadata": {},
   "outputs": [],
   "source": [
    "# If you already ran store_expanded_labeled_trips.ipynb already and want to save time vs running the cell below\n",
    "%store -r expanded_labeled_trips"
   ]
  },
  {
   "cell_type": "code",
   "execution_count": 14,
   "metadata": {},
   "outputs": [
    {
     "data": {
      "text/plain": [
       "'import database_related_functions as drf  # all the emission server functions for this notebook are in here.\\nuser_list, os_map, uuid_program_map = drf.get_participants_programs_and_operating_systems()\\n#print(len(user_list), len(os_map), len(uuid_program_map))\\n\\n# Takes ~ 1 min 45 s to 2 min 45 s on Macbook Pro for all ceo data up to May 2022.\\nexpanded_labeled_trips = drf.get_expanded_labeled_trips(user_list)\\nexpanded_labeled_trips[\\'os\\'] = expanded_labeled_trips.user_id.map(os_map)\\nexpanded_labeled_trips[\\'program\\'] = expanded_labeled_trips[\\'user_id\\'].map(uuid_program_map)\\n\\nexpanded_labeled_trips = expanded_labeled_trips.drop(labels = [\\'source\\', \\'end_fmt_time\\', \\'end_loc\\', \\'raw_trip\\',\\n    \\'start_fmt_time\\', \\'start_loc\\',\\'start_local_dt_year\\', \\'start_local_dt_month\\', \\'start_local_dt_day\\',\\n    \\'start_local_dt_hour\\', \\'start_local_dt_minute\\', \\'start_local_dt_second\\',\\n    \\'start_local_dt_weekday\\', \\'start_local_dt_timezone\\',\\n    \\'end_local_dt_year\\', \\'end_local_dt_month\\', \\'end_local_dt_day\\',\\n    \\'end_local_dt_hour\\', \\'end_local_dt_minute\\', \\'end_local_dt_second\\',\\n    \\'end_local_dt_weekday\\', \\'end_local_dt_timezone\\'], axis = 1)\\n\\nexpanded_labeled_trips[\\'distance_miles\\'] = expanded_labeled_trips.distance*METERS_TO_MILES\\n\\n# Group together the prepilot participants\\nprepilot_list = [\\'84Q9SsrH\\',\\'cwZazZLJ\\',\\'CudLAeg8\\',\\'sxxcLqbK\\',\\'Q8T7QTXK\\',\\'5KEGHHuf\\',\\'e9MaNVU7\\',\\'7c797MRD\\',\\'rhBZukxY\\',\\'k36cxmfA\\',\\'FmxVf8u6\\',\\'F3jxHLSW\\']\\nexpanded_labeled_trips[\\'program\\'] = expanded_labeled_trips.program.replace(prepilot_list, \"prepilot\")'"
      ]
     },
     "execution_count": 14,
     "metadata": {},
     "output_type": "execute_result"
    }
   ],
   "source": [
    "'''import database_related_functions as drf  # all the emission server functions for this notebook are in here.\n",
    "user_list, os_map, uuid_program_map = drf.get_participants_programs_and_operating_systems()\n",
    "#print(len(user_list), len(os_map), len(uuid_program_map))\n",
    "\n",
    "# Takes ~ 1 min 45 s to 2 min 45 s on Macbook Pro for all ceo data up to May 2022.\n",
    "expanded_labeled_trips = drf.get_expanded_labeled_trips(user_list)\n",
    "expanded_labeled_trips['os'] = expanded_labeled_trips.user_id.map(os_map)\n",
    "expanded_labeled_trips['program'] = expanded_labeled_trips['user_id'].map(uuid_program_map)\n",
    "\n",
    "expanded_labeled_trips = expanded_labeled_trips.drop(labels = ['source', 'end_fmt_time', 'end_loc', 'raw_trip',\n",
    "    'start_fmt_time', 'start_loc','start_local_dt_year', 'start_local_dt_month', 'start_local_dt_day',\n",
    "    'start_local_dt_hour', 'start_local_dt_minute', 'start_local_dt_second',\n",
    "    'start_local_dt_weekday', 'start_local_dt_timezone',\n",
    "    'end_local_dt_year', 'end_local_dt_month', 'end_local_dt_day',\n",
    "    'end_local_dt_hour', 'end_local_dt_minute', 'end_local_dt_second',\n",
    "    'end_local_dt_weekday', 'end_local_dt_timezone'], axis = 1)\n",
    "\n",
    "expanded_labeled_trips['distance_miles'] = expanded_labeled_trips.distance*METERS_TO_MILES\n",
    "\n",
    "# Group together the prepilot participants\n",
    "prepilot_list = ['84Q9SsrH','cwZazZLJ','CudLAeg8','sxxcLqbK','Q8T7QTXK','5KEGHHuf','e9MaNVU7','7c797MRD','rhBZukxY','k36cxmfA','FmxVf8u6','F3jxHLSW']\n",
    "expanded_labeled_trips['program'] = expanded_labeled_trips.program.replace(prepilot_list, \"prepilot\")'''"
   ]
  },
  {
   "cell_type": "code",
   "execution_count": 15,
   "metadata": {},
   "outputs": [],
   "source": [
    "unit_dist_MCS_df = pd.read_csv(\"unit_distance_MCS.csv\").set_index(\"moment\")\n",
    "energy_dict = cm_handling.get_energy_dict(df_EI, units= 'MWH')"
   ]
  },
  {
   "cell_type": "code",
   "execution_count": 16,
   "metadata": {},
   "outputs": [
    {
     "name": "stdout",
     "output_type": "stream",
     "text": [
      "Dropping user labeled AIR trips and trips with no OS.\n",
      "Dropped 93 trips with no sensed sections.\n",
      "Here are the number of labeled trips remaining in each program dataset:\n"
     ]
    },
    {
     "data": {
      "text/plain": [
       "cc          28768\n",
       "pc          17880\n",
       "fc          11744\n",
       "stage       10715\n",
       "sc           9092\n",
       "vail         6348\n",
       "4c           5262\n",
       "prepilot     2425\n",
       "Name: program, dtype: int64"
      ]
     },
     "execution_count": 16,
     "metadata": {},
     "output_type": "execute_result"
    }
   ],
   "source": [
    "# Drop trips you want to exclude from analysis.\n",
    "expanded_labeled_trips = hf.drop_unwanted_trips(expanded_labeled_trips,drop_not_a_trip=False)\n",
    "\n",
    "# Find the primary mode - the sensed mode with the longest section for each trip.\n",
    "expanded_labeled_trips = hf.get_primary_modes(expanded_labeled_trips,energy_dict,MODE_MAPPING_DICT)\n",
    "\n",
    "print('Here are the number of labeled trips remaining in each program dataset:')\n",
    "expanded_labeled_trips.program.value_counts()"
   ]
  },
  {
   "cell_type": "code",
   "execution_count": 17,
   "metadata": {},
   "outputs": [],
   "source": [
    "# Get the confusion matrices and then the EI moments from those.\n",
    "android_confusion = pd.read_csv(\"android_confusion.csv\").set_index('gt_mode')\n",
    "ios_confusion = pd.read_csv(\"ios_confusion.csv\").set_index('gt_mode')\n",
    "\n",
    "android_confusion = cm_handling.collapse_confusion_matrix(android_confusion, rows_to_collapse={\"Train\": [\"Train\"]}, columns_to_collapse={})\n",
    "ios_confusion = cm_handling.collapse_confusion_matrix(ios_confusion, rows_to_collapse={\"Train\": [\"Train\"]}, columns_to_collapse={})\n",
    "\n",
    "# here I'm referring to car_load_factor the number that we divide the drove alone energy intensity by\n",
    "# for r = 1, car_load_factor is 4/3.\n",
    "sensed_car_EI = hf.find_sensed_car_energy_intensity(energy_dict, ECAR_PROPORTION, DROVE_ALONE_TO_SHARED_RIDE_RATIO)\n",
    "energy_dict.update({\"Car, sensed\": sensed_car_EI})\n",
    "\n",
    "EI_length_cov = 0"
   ]
  },
  {
   "cell_type": "code",
   "execution_count": 18,
   "metadata": {},
   "outputs": [
    {
     "name": "stdout",
     "output_type": "stream",
     "text": [
      "Computing energy consumption for each trip.\n",
      "Using EI length covariance = 0.\n"
     ]
    }
   ],
   "source": [
    "# if you forget this step, the error for expected may be different, \n",
    "# since you might be relying on a different saved version of the EI_moments_dataframe\n",
    "android_EI_moments_df = cm_handling.get_conditional_EI_expectation_and_variance(android_confusion,energy_dict)\n",
    "ios_EI_moments_df = cm_handling.get_conditional_EI_expectation_and_variance(ios_confusion,energy_dict)\n",
    "os_EI_moments_map = {'ios': ios_EI_moments_df, 'android': android_EI_moments_df}\n",
    "energy_consumption_df = get_EC.compute_all_EC_values(expanded_labeled_trips,unit_dist_MCS_df,energy_dict,android_EI_moments_df,ios_EI_moments_df, \\\n",
    "    EI_length_cov, print_info=False)"
   ]
  },
  {
   "cell_type": "markdown",
   "metadata": {},
   "source": [
    "### Sensitivity Analysis: vary the time of the final trip in the dataset"
   ]
  },
  {
   "cell_type": "code",
   "execution_count": 36,
   "metadata": {},
   "outputs": [],
   "source": [
    "MONTH_IN_SECONDS = 30*3600*24\n",
    "\n",
    "def get_cumulative_EC_lists(energy_consumption_df, program):\n",
    "\n",
    "    df = energy_consumption_df[energy_consumption_df.program == program].copy()\n",
    "    start_time = df.start_ts.min()\n",
    "    stop_time = df.end_ts.max()\n",
    "\n",
    "    time_array = np.linspace(start_time + MONTH_IN_SECONDS, stop_time, num= 30)\n",
    "\n",
    "    user_labeled_EC_list = []\n",
    "    expected_EC_list = []\n",
    "    standard_deviation_list = []\n",
    "    user_sd_list = []\n",
    "\n",
    "    for t in time_array:\n",
    "        sub_df = df[df.end_ts < t]\n",
    "        # get energy consumption mean and variance for user labeled and for sensed as lists\n",
    "        expected_EC_list.append(sub_df.expected.sum())\n",
    "        user_labeled_EC_list.append(sub_df.user_labeled.sum())\n",
    "\n",
    "        # Beware: this function currently returns two things\n",
    "        EC_var, _ = get_EC.compute_aggregate_variance_with_total_distance_from_sections(sub_df, os_EI_moments_map,unit_dist_MCS_df)\n",
    "        standard_deviation_list.append(np.sqrt(EC_var))\n",
    "        user_sd_list.append(np.sqrt(sub_df.user_var.sum()))\n",
    "\n",
    "    return expected_EC_list, user_labeled_EC_list, standard_deviation_list, user_sd_list, time_array\n",
    "\n",
    "def plot_cumulative_EC(program, expected_EC_list, user_labeled_EC_list, standard_deviation_list, user_sd_list, time_array):\n",
    "    plt.scatter(time_array, expected_EC_list, marker= '.', c= 'tab:orange')\n",
    "    plt.scatter(time_array, np.array(expected_EC_list) - np.array(standard_deviation_list), marker= '_', c = 'tab:orange')\n",
    "    plt.scatter(time_array, np.array(expected_EC_list) + np.array(standard_deviation_list), marker= '_', c = 'tab:orange')\n",
    "    plt.scatter(time_array, user_labeled_EC_list, marker= '.', c= 'tab:blue')\n",
    "    plt.xlabel(\"Timestamp\", fontsize=12)\n",
    "    plt.ylabel(\"Cumulative energy consumption (MWH)\", fontsize=12)\n",
    "    plt.title(f\"Cumulative energy consumption over time with uncertainty for {program}\")\n",
    "    plt.rcParams[\"figure.figsize\"] = (8,8)\n",
    "    plt.show()\n"
   ]
  },
  {
   "cell_type": "code",
   "execution_count": 20,
   "metadata": {},
   "outputs": [],
   "source": [
    "cc_expected, cc_user_labeled, cc_sensed_sd, cc_user_sd, cc_time_array = get_cumulative_EC_lists(energy_consumption_df, \"cc\")"
   ]
  },
  {
   "cell_type": "code",
   "execution_count": 37,
   "metadata": {},
   "outputs": [
    {
     "data": {
      "image/png": "[encoded data removed]",
      "text/plain": [
       "<Figure size 576x576 with 1 Axes>"
      ]
     },
     "metadata": {
      "needs_background": "light"
     },
     "output_type": "display_data"
    }
   ],
   "source": [
    "plot_cumulative_EC(\"cc\", cc_expected, cc_user_labeled, cc_sensed_sd, cc_user_sd, cc_time_array)"
   ]
  },
  {
   "cell_type": "code",
   "execution_count": 22,
   "metadata": {},
   "outputs": [],
   "source": [
    "pc_expected, pc_user_labeled, pc_sensed_sd, pc_user_sd, pc_time_array = get_cumulative_EC_lists(energy_consumption_df, \"pc\")"
   ]
  },
  {
   "cell_type": "code",
   "execution_count": 38,
   "metadata": {},
   "outputs": [
    {
     "data": {
      "image/png": "[encoded data removed]",
      "text/plain": [
       "<Figure size 576x576 with 1 Axes>"
      ]
     },
     "metadata": {
      "needs_background": "light"
     },
     "output_type": "display_data"
    }
   ],
   "source": [
    "plot_cumulative_EC(\"pc\", pc_expected, pc_user_labeled, pc_sensed_sd, pc_user_sd, pc_time_array)"
   ]
  }
 ],
 "metadata": {
  "kernelspec": {
   "display_name": "Python 3.7.12 ('emission-private-eval')",
   "language": "python",
   "name": "python3"
  },
  "language_info": {
   "codemirror_mode": {
    "name": "ipython",
    "version": 3
   },
   "file_extension": ".py",
   "mimetype": "text/x-python",
   "name": "python",
   "nbconvert_exporter": "python",
   "pygments_lexer": "ipython3",
   "version": "3.7.12"
  },
  "orig_nbformat": 4,
  "vscode": {
   "interpreter": {
    "hash": "73ac5b45931ab4dd3f8e07a8d0e5daf0146eed4821bf42374f6ac6fa4af28c83"
   }
  }
 },
 "nbformat": 4,
 "nbformat_minor": 2
}
