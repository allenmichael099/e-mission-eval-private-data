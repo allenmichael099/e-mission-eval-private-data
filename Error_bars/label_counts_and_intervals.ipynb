{
 "cells": [
  {
   "cell_type": "code",
   "execution_count": 54,
   "metadata": {},
   "outputs": [],
   "source": [
    "import numpy as np\n",
    "import sys\n",
    "import pandas as pd\n",
    "sys.path.insert(0, \"/Users/mallen2/OpenPATH_Data/e-mission-server\") \n",
    "\n",
    "from pymongo import MongoClient\n",
    "client = MongoClient()\n",
    "db = client.Stage_database\n",
    "\n",
    "import emission.storage.timeseries.aggregate_timeseries as estag \n",
    "agts = estag.AggregateTimeSeries()   \n",
    "\n",
    "inferred_trip_query = db.Stage_analysis_timeseries.find({\n",
    "    \"$and\": [ {\"metadata.key\":\"analysis/confirmed_trip\"},\n",
    "            {\"data.algorithm_chosen\": {\"$in\": [\"label_assist\",\"sensing\"]}}]\n",
    "    }) \n",
    "\n",
    "inferred_trips_df = agts.to_data_df(\"analysis/confirmed_trip\",inferred_trip_query)\n",
    "\n",
    "LABEL_CATEGORIES = ['mode_confirm','purpose_confirm','replaced_mode']\n",
    "\n",
    "accepted_labels = {} # dictionary by label type with a list of standard labels for each type. Used to group custom labels as \"Other\"\n",
    "#error_rates = db.Error_Rates.find_one()\n",
    "#label_assist_mode_count_variances = error_rates[\"label_assist_mode_count_variances\"]\n",
    "\n",
    "accepted_labels[\"mode_confirm\"] = [\"Walk\", \"Bike\",\"e-bike\",\"Scooter share\", \"Drove Alone\", \"Shared Ride\", \"Taxi/Uber/Lyft\", \"Bus\", \"Train\", \"Free Shuttle\", \"Air\"]\n",
    "intensity_df = pd.read_csv(\"/Users/mallen2/OpenPATH_Data/em-public-dashboard/viz_scripts/auxiliary_files/energy_intensity.csv\")"
   ]
  },
  {
   "cell_type": "code",
   "execution_count": 55,
   "metadata": {},
   "outputs": [],
   "source": [
    "def make_rel_errors(max_size):\n",
    "    upper= np.random.rand(1)*max_size\n",
    "    lower = -np.random.rand(1)*max_size\n",
    "    return  [float(lower),float(upper)]\n",
    "\n",
    "Error_Rates = db[\"Error_Rates\"]\n",
    "# mode count intervals, (purpose count intervals later), carbon intervals, energy intervals\n",
    "# Maybe eventually provide the bootstrap distributions?\n",
    "modes = ['Walk', 'Bike', 'e-bike', 'Scooter share', 'Drove Alone', 'Shared Ride', 'Taxi/Uber/Lyft', 'Bus', 'Train', 'Free Shuttle', 'Air', 'Other','Total']\n",
    "mode_rel_errors = {}\n",
    "carbon_rel_errors = {}\n",
    "energy_rel_errors = {}\n",
    "for m in modes:\n",
    "    if m is not 'Total':\n",
    "        mode_rel_errors[m] = make_rel_errors(0.15)\n",
    "    carbon_rel_errors[m] = make_rel_errors(0.2)\n",
    "    energy_rel_errors[m] = make_rel_errors(0.2)\n",
    "\n",
    "error_dictionary = {}\n",
    "error_dictionary[\"counts\"] = {}\n",
    "error_dictionary[\"counts\"][\"mode_confirm\"] = mode_rel_errors\n",
    "error_dictionary[\"carbon\"] = carbon_rel_errors\n",
    "error_dictionary[\"energy\"] = energy_rel_errors\n",
    "error_dictionary[\"distance\"] = {\"interval\": make_rel_errors(0.05), \"mean\": 0.01, \"variance\":0.02}\n",
    "\n",
    "# to reset: db.Error_Rates.drop()"
   ]
  },
  {
   "cell_type": "code",
   "execution_count": 52,
   "metadata": {},
   "outputs": [
    {
     "data": {
      "text/plain": [
       "<pymongo.results.InsertOneResult at 0x7ff61e7053c0>"
      ]
     },
     "execution_count": 52,
     "metadata": {},
     "output_type": "execute_result"
    }
   ],
   "source": [
    "# Run this once. If you want to change it, drop the collection and rerun the above cell.\n",
    "Error_Rates.insert_one(error_dictionary)"
   ]
  },
  {
   "cell_type": "markdown",
   "metadata": {},
   "source": [
    "### Compute Metrics with Error Bars\n",
    "The following functions compute metrics and error bars using inferred trip labels. These can be added to the values calculated from trips that have user input."
   ]
  },
  {
   "cell_type": "code",
   "execution_count": 1,
   "metadata": {},
   "outputs": [
    {
     "ename": "NameError",
     "evalue": "name 'db' is not defined",
     "output_type": "error",
     "traceback": [
      "\u001b[0;31m---------------------------------------------------------------------------\u001b[0m",
      "\u001b[0;31mNameError\u001b[0m                                 Traceback (most recent call last)",
      "\u001b[0;32m<ipython-input-1-dd0972c8f45e>\u001b[0m in \u001b[0;36m<module>\u001b[0;34m\u001b[0m\n\u001b[1;32m      1\u001b[0m \u001b[0;32mimport\u001b[0m \u001b[0mcount_functions\u001b[0m \u001b[0;32mas\u001b[0m \u001b[0mcounts\u001b[0m\u001b[0;34m\u001b[0m\u001b[0;34m\u001b[0m\u001b[0m\n\u001b[1;32m      2\u001b[0m \u001b[0;34m\u001b[0m\u001b[0m\n\u001b[0;32m----> 3\u001b[0;31m \u001b[0mdb_errors\u001b[0m \u001b[0;34m=\u001b[0m \u001b[0mdb\u001b[0m\u001b[0;34m.\u001b[0m\u001b[0mError_Rates\u001b[0m\u001b[0;34m.\u001b[0m\u001b[0mfind_one\u001b[0m\u001b[0;34m(\u001b[0m\u001b[0;34m)\u001b[0m\u001b[0;34m\u001b[0m\u001b[0;34m\u001b[0m\u001b[0m\n\u001b[0m\u001b[1;32m      4\u001b[0m \u001b[0mrel_count_errors\u001b[0m \u001b[0;34m=\u001b[0m \u001b[0mdb_errors\u001b[0m\u001b[0;34m[\u001b[0m\u001b[0;34m\"counts\"\u001b[0m\u001b[0;34m]\u001b[0m\u001b[0;34m\u001b[0m\u001b[0;34m\u001b[0m\u001b[0m\n\u001b[1;32m      5\u001b[0m \u001b[0mall_inferred_counts\u001b[0m \u001b[0;34m=\u001b[0m \u001b[0mcounts\u001b[0m\u001b[0;34m.\u001b[0m\u001b[0mget_inferred_counts\u001b[0m\u001b[0;34m(\u001b[0m\u001b[0minferred_trips_df\u001b[0m\u001b[0;34m)\u001b[0m\u001b[0;34m\u001b[0m\u001b[0;34m\u001b[0m\u001b[0m\n",
      "\u001b[0;31mNameError\u001b[0m: name 'db' is not defined"
     ]
    }
   ],
   "source": [
    "import count_functions as counts\n",
    "\n",
    "db_errors = db.Error_Rates.find_one()\n",
    "rel_count_errors = db_errors[\"counts\"]\n",
    "all_inferred_counts = counts.get_inferred_counts(inferred_trips_df)\n",
    "count_intervals = counts.get_count_intervals(all_inferred_counts,LABEL_CATEGORIES, rel_count_errors)"
   ]
  },
  {
   "cell_type": "code",
   "execution_count": 83,
   "metadata": {},
   "outputs": [
    {
     "data": {
      "text/plain": [
       "{'mode_confirm': {'Other': {'count': 128,\n",
       "   'interval': [122.08031960917052, 132.29127208835874]},\n",
       "  'Drove Alone': {'count': 34,\n",
       "   'interval': [29.594610426589405, 36.39919660047995]},\n",
       "  'Walk': {'count': 9, 'interval': [8.7926140384392, 9.801002572005041]},\n",
       "  'Bike': {'count': 2, 'interval': [1.9719114119104852, 2.117864092900778]}}}"
      ]
     },
     "execution_count": 83,
     "metadata": {},
     "output_type": "execute_result"
    }
   ],
   "source": [
    "count_intervals"
   ]
  },
  {
   "cell_type": "code",
   "execution_count": null,
   "metadata": {},
   "outputs": [],
   "source": [
    "errors = db.Error_Rates.find_one()\n",
    "errors"
   ]
  },
  {
   "cell_type": "code",
   "execution_count": 115,
   "metadata": {},
   "outputs": [],
   "source": [
    "import impact_metrics as im\n",
    "\n",
    "carbon_rel_errors = db_errors[\"carbon\"]\n",
    "energy_rel_errors = db_errors[\"energy\"]\n",
    "distances_by_mode = im.get_distances_by_mode(inferred_trips_df)\n",
    "carbon_by_mode = im.get_inferred_carbon_intervals(distances_by_mode, carbon_rel_errors,intensity_df)\n",
    "energy_by_mode = im.get_inferred_energy_intervals(distances_by_mode, energy_rel_errors,intensity_df)\n",
    "\n",
    "# are the distances in meters in the database?"
   ]
  },
  {
   "cell_type": "code",
   "execution_count": 114,
   "metadata": {},
   "outputs": [
    {
     "data": {
      "text/plain": [
       "{'Drove Alone': {'estimate': 2592087647.3392005,\n",
       "  'interval': [2515503002.216092, 3103583055.347957]},\n",
       " 'Walk': {'estimate': 0.0, 'interval': [0.0, 0.0]},\n",
       " 'Bike': {'estimate': 0.0, 'interval': [0.0, 0.0]}}"
      ]
     },
     "execution_count": 114,
     "metadata": {},
     "output_type": "execute_result"
    }
   ],
   "source": [
    "energy_by_mode"
   ]
  },
  {
   "cell_type": "code",
   "execution_count": 112,
   "metadata": {},
   "outputs": [
    {
     "data": {
      "text/plain": [
       "{'Other': 576713.500697305,\n",
       " 'Drove Alone': 501370.91824742756,\n",
       " 'Walk': 95361.01732049005,\n",
       " 'Bike': 14852.071173176655,\n",
       " 'Total': 1188297.5074383991}"
      ]
     },
     "execution_count": 112,
     "metadata": {},
     "output_type": "execute_result"
    }
   ],
   "source": [
    "distances_by_mode"
   ]
  },
  {
   "cell_type": "code",
   "execution_count": 46,
   "metadata": {},
   "outputs": [
    {
     "data": {
      "text/html": [
       "<div>\n",
       "<style scoped>\n",
       "    .dataframe tbody tr th:only-of-type {\n",
       "        vertical-align: middle;\n",
       "    }\n",
       "\n",
       "    .dataframe tbody tr th {\n",
       "        vertical-align: top;\n",
       "    }\n",
       "\n",
       "    .dataframe thead th {\n",
       "        text-align: right;\n",
       "    }\n",
       "</style>\n",
       "<table border=\"1\" class=\"dataframe\">\n",
       "  <thead>\n",
       "    <tr style=\"text-align: right;\">\n",
       "      <th></th>\n",
       "      <th>mode</th>\n",
       "      <th>fuel</th>\n",
       "      <th>(kWH)/trip</th>\n",
       "      <th>EI(kWH/PMT)</th>\n",
       "      <th>energy_intensity_factor</th>\n",
       "      <th>energy_intensity_units</th>\n",
       "      <th>CO2_factor</th>\n",
       "      <th>CO2_factor_units</th>\n",
       "    </tr>\n",
       "  </thead>\n",
       "  <tbody>\n",
       "    <tr>\n",
       "      <th>0</th>\n",
       "      <td>Car, drove alone</td>\n",
       "      <td>gasoline</td>\n",
       "      <td>0.0000</td>\n",
       "      <td>NaN</td>\n",
       "      <td>5170.000</td>\n",
       "      <td>BTU/PMT</td>\n",
       "      <td>157.2</td>\n",
       "      <td>lb_CO2/MMBTU</td>\n",
       "    </tr>\n",
       "    <tr>\n",
       "      <th>1</th>\n",
       "      <td>Car, with others</td>\n",
       "      <td>gasoline</td>\n",
       "      <td>0.0000</td>\n",
       "      <td>NaN</td>\n",
       "      <td>2585.000</td>\n",
       "      <td>BTU/PMT</td>\n",
       "      <td>157.2</td>\n",
       "      <td>lb_CO2/MMBTU</td>\n",
       "    </tr>\n",
       "    <tr>\n",
       "      <th>2</th>\n",
       "      <td>Taxi/Uber/Lyft</td>\n",
       "      <td>gasoline</td>\n",
       "      <td>0.0000</td>\n",
       "      <td>NaN</td>\n",
       "      <td>7214.000</td>\n",
       "      <td>BTU/PMT</td>\n",
       "      <td>157.2</td>\n",
       "      <td>lb_CO2/MMBTU</td>\n",
       "    </tr>\n",
       "    <tr>\n",
       "      <th>3</th>\n",
       "      <td>Bus</td>\n",
       "      <td>diesel</td>\n",
       "      <td>0.0000</td>\n",
       "      <td>NaN</td>\n",
       "      <td>4560.000</td>\n",
       "      <td>BTU/PMT</td>\n",
       "      <td>161.3</td>\n",
       "      <td>lb_CO2/MMBTU</td>\n",
       "    </tr>\n",
       "    <tr>\n",
       "      <th>4</th>\n",
       "      <td>Free Shuttle</td>\n",
       "      <td>diesel</td>\n",
       "      <td>0.0000</td>\n",
       "      <td>NaN</td>\n",
       "      <td>4560.000</td>\n",
       "      <td>BTU/PMT</td>\n",
       "      <td>161.3</td>\n",
       "      <td>lb_CO2/MMBTU</td>\n",
       "    </tr>\n",
       "    <tr>\n",
       "      <th>5</th>\n",
       "      <td>Train</td>\n",
       "      <td>electric</td>\n",
       "      <td>0.0000</td>\n",
       "      <td>0.370</td>\n",
       "      <td>0.370</td>\n",
       "      <td>kWH/PMT</td>\n",
       "      <td>1166.0</td>\n",
       "      <td>lb_CO2/MWH</td>\n",
       "    </tr>\n",
       "    <tr>\n",
       "      <th>6</th>\n",
       "      <td>Scooter share</td>\n",
       "      <td>electric</td>\n",
       "      <td>0.0041</td>\n",
       "      <td>0.027</td>\n",
       "      <td>0.027</td>\n",
       "      <td>kWH/PMT</td>\n",
       "      <td>1166.0</td>\n",
       "      <td>lb_CO2/MWH</td>\n",
       "    </tr>\n",
       "    <tr>\n",
       "      <th>7</th>\n",
       "      <td>Pilot ebike</td>\n",
       "      <td>electric</td>\n",
       "      <td>0.0000</td>\n",
       "      <td>0.022</td>\n",
       "      <td>0.022</td>\n",
       "      <td>kWH/PMT</td>\n",
       "      <td>1166.0</td>\n",
       "      <td>lb_CO2/MWH</td>\n",
       "    </tr>\n",
       "    <tr>\n",
       "      <th>8</th>\n",
       "      <td>Bikeshare</td>\n",
       "      <td>human_powered</td>\n",
       "      <td>0.0900</td>\n",
       "      <td>0.000</td>\n",
       "      <td>0.000</td>\n",
       "      <td>kWH/PMT</td>\n",
       "      <td>1166.0</td>\n",
       "      <td>lb_CO2/MWH</td>\n",
       "    </tr>\n",
       "    <tr>\n",
       "      <th>9</th>\n",
       "      <td>Walk</td>\n",
       "      <td>human_powered</td>\n",
       "      <td>0.0000</td>\n",
       "      <td>NaN</td>\n",
       "      <td>0.000</td>\n",
       "      <td>NaN</td>\n",
       "      <td>0.0</td>\n",
       "      <td>0</td>\n",
       "    </tr>\n",
       "    <tr>\n",
       "      <th>10</th>\n",
       "      <td>Skate board</td>\n",
       "      <td>human_powered</td>\n",
       "      <td>0.0000</td>\n",
       "      <td>NaN</td>\n",
       "      <td>0.000</td>\n",
       "      <td>NaN</td>\n",
       "      <td>0.0</td>\n",
       "      <td>0</td>\n",
       "    </tr>\n",
       "    <tr>\n",
       "      <th>11</th>\n",
       "      <td>Regular Bike</td>\n",
       "      <td>human_powered</td>\n",
       "      <td>0.0000</td>\n",
       "      <td>NaN</td>\n",
       "      <td>0.000</td>\n",
       "      <td>NaN</td>\n",
       "      <td>0.0</td>\n",
       "      <td>0</td>\n",
       "    </tr>\n",
       "    <tr>\n",
       "      <th>12</th>\n",
       "      <td>Not a Trip</td>\n",
       "      <td>none</td>\n",
       "      <td>0.0000</td>\n",
       "      <td>NaN</td>\n",
       "      <td>0.000</td>\n",
       "      <td>NaN</td>\n",
       "      <td>0.0</td>\n",
       "      <td>0</td>\n",
       "    </tr>\n",
       "    <tr>\n",
       "      <th>13</th>\n",
       "      <td>No Travel</td>\n",
       "      <td>none</td>\n",
       "      <td>0.0000</td>\n",
       "      <td>NaN</td>\n",
       "      <td>0.000</td>\n",
       "      <td>NaN</td>\n",
       "      <td>0.0</td>\n",
       "      <td>0</td>\n",
       "    </tr>\n",
       "  </tbody>\n",
       "</table>\n",
       "</div>"
      ],
      "text/plain": [
       "                mode           fuel  (kWH)/trip  EI(kWH/PMT)  \\\n",
       "0   Car, drove alone       gasoline      0.0000          NaN   \n",
       "1   Car, with others       gasoline      0.0000          NaN   \n",
       "2     Taxi/Uber/Lyft       gasoline      0.0000          NaN   \n",
       "3                Bus         diesel      0.0000          NaN   \n",
       "4       Free Shuttle         diesel      0.0000          NaN   \n",
       "5              Train       electric      0.0000        0.370   \n",
       "6      Scooter share       electric      0.0041        0.027   \n",
       "7        Pilot ebike       electric      0.0000        0.022   \n",
       "8          Bikeshare  human_powered      0.0900        0.000   \n",
       "9               Walk  human_powered      0.0000          NaN   \n",
       "10       Skate board  human_powered      0.0000          NaN   \n",
       "11      Regular Bike  human_powered      0.0000          NaN   \n",
       "12        Not a Trip           none      0.0000          NaN   \n",
       "13         No Travel           none      0.0000          NaN   \n",
       "\n",
       "    energy_intensity_factor energy_intensity_units  CO2_factor  \\\n",
       "0                  5170.000                BTU/PMT       157.2   \n",
       "1                  2585.000                BTU/PMT       157.2   \n",
       "2                  7214.000                BTU/PMT       157.2   \n",
       "3                  4560.000                BTU/PMT       161.3   \n",
       "4                  4560.000                BTU/PMT       161.3   \n",
       "5                     0.370                kWH/PMT      1166.0   \n",
       "6                     0.027                kWH/PMT      1166.0   \n",
       "7                     0.022                kWH/PMT      1166.0   \n",
       "8                     0.000                kWH/PMT      1166.0   \n",
       "9                     0.000                    NaN         0.0   \n",
       "10                    0.000                    NaN         0.0   \n",
       "11                    0.000                    NaN         0.0   \n",
       "12                    0.000                    NaN         0.0   \n",
       "13                    0.000                    NaN         0.0   \n",
       "\n",
       "   CO2_factor_units  \n",
       "0      lb_CO2/MMBTU  \n",
       "1      lb_CO2/MMBTU  \n",
       "2      lb_CO2/MMBTU  \n",
       "3      lb_CO2/MMBTU  \n",
       "4      lb_CO2/MMBTU  \n",
       "5        lb_CO2/MWH  \n",
       "6        lb_CO2/MWH  \n",
       "7        lb_CO2/MWH  \n",
       "8        lb_CO2/MWH  \n",
       "9                 0  \n",
       "10                0  \n",
       "11                0  \n",
       "12                0  \n",
       "13                0  "
      ]
     },
     "execution_count": 46,
     "metadata": {},
     "output_type": "execute_result"
    }
   ],
   "source": [
    "intensity_df #[intensity_df[\"mode\"] == \"Car, drove alone\"][\"CO2_factor\"]"
   ]
  }
 ],
 "metadata": {
  "interpreter": {
   "hash": "73ac5b45931ab4dd3f8e07a8d0e5daf0146eed4821bf42374f6ac6fa4af28c83"
  },
  "kernelspec": {
   "display_name": "Python 3.7.12 ('emission-private-eval')",
   "language": "python",
   "name": "python3"
  },
  "language_info": {
   "codemirror_mode": {
    "name": "ipython",
    "version": 3
   },
   "file_extension": ".py",
   "mimetype": "text/x-python",
   "name": "python",
   "nbconvert_exporter": "python",
   "pygments_lexer": "ipython3",
   "version": "3.7.12"
  },
  "orig_nbformat": 4
 },
 "nbformat": 4,
 "nbformat_minor": 2
}
