{
 "cells": [
  {
   "cell_type": "code",
   "execution_count": null,
   "metadata": {},
   "outputs": [],
   "source": [
    "%load_ext autoreload\n",
    "%autoreload 2\n",
    "\n",
    "import pandas as pd\n",
    "import numpy as np\n",
    "from uuid import UUID\n",
    "\n",
    "import matplotlib.pyplot as plt\n",
    "\n",
    "sys.path.append('/Users/mallen2/alternate_branches/eval-compatible-server/e-mission-server')\n",
    "\n",
    "import emission.storage.timeseries.abstract_timeseries as esta\n",
    "import emission.storage.decorations.trip_queries as esdtq\n",
    "\n",
    "import confusion_matrix_handling as cm_handling\n",
    "from confusion_matrix_handling import MODE_MAPPING_DICT\n",
    "\n",
    "%store -r df_EI\n",
    "energy_dict = cm_handling.get_energy_dict(df_EI)"
   ]
  },
  {
   "cell_type": "code",
   "execution_count": null,
   "metadata": {},
   "outputs": [],
   "source": [
    "android_GIS_HAMFDC = np.array([\n",
    "    [24743,1595,564,682,235,359,2835,3365,436], \n",
    "    [230,10288,0,0,0,0,121,197,0],\n",
    "    [0,4957,0,0,0,0,107,0,0],\n",
    "    [0,0,7582,0,0,0,877,24,0],\n",
    "    [0,0,8414,15607,0,0,0,589,0],\n",
    "    [0,0,0,0,19651,0,0,24,0],\n",
    "    [795,825,0,2920,0,0,0,308,0],\n",
    "    [13,0,0,0,0,35726,0,415,0],\n",
    "    [941,0,115,0,0,0,0,0,0],\n",
    "    [823,223,18,1016,563,815,0,14735,0],\n",
    "    [1024,14,3,0,0,0,0,0,0]\n",
    "    ])\n",
    "\n",
    "ios_GIS_HAHFDC = np.array([\n",
    "    [26606,992,768,593,243,551,6033,145,1329],\n",
    "    [425,11938,0,0,0,0,1958,28,0],\n",
    "    [1314,4529,516,0,0,0,1119,2,0],\n",
    "    [246,0,10922,0,0,0,2799,1,0],\n",
    "    [1041,190,11177,16877,0,0,0,98,0],\n",
    "    [0,0,0,0,19573,0,0,7,0],\n",
    "    [1829,0,0,3111,0,0,0,12,0],\n",
    "    [5,5,5836,0,0,31087,0,93,0],\n",
    "    [124,18,0,0,0,0,0,0,0],\n",
    "    [10430,1019,1032,1274,1682,1475,0,2457,0],\n",
    "    [2973,0,264,0,0,0,0,0,0]\n",
    "])\n",
    "\n",
    "# check what gabe used. also check the values in the ei csv.\n",
    "sensing_predictions = [\"walking\", \"bicycling\",\"car\",\"bus\",\"subway\",\"train\", \"no_start\", \"no_middle\",\"no_end\"]\n",
    "sensing_gt = [\"walking\",\"bicycling\",\"escooter\",\"car\", \"bus\", \"subway\",\"light_rail\",\"train\",\"no_gt_start\",\"no_gt_middle\",\"no_gt_end\"]\n",
    "\n",
    "android_confusion_GIS_HAMFDC = pd.DataFrame(android_GIS_HAMFDC, index = sensing_gt, columns= sensing_predictions)\n",
    "ios_confusion_GIS_HAMFDC = pd.DataFrame(ios_GIS_HAHFDC, index = sensing_gt, columns= sensing_predictions)\n",
    "android_confusion_GIS_HAMFDC"
   ]
  },
  {
   "cell_type": "code",
   "execution_count": null,
   "metadata": {},
   "outputs": [],
   "source": [
    "collapsed_android_cm = cm_handling.collapse_confusion_matrix(android_confusion_GIS_HAMFDC)\n",
    "collapsed_android_cm = collapsed_android_cm.rename(mapper= MODE_MAPPING_DICT, axis=\"index\")\n",
    "cm_handling.get_conditional_EI_expectation_and_variance(collapsed_android_cm,energy_dict)"
   ]
  },
  {
   "cell_type": "code",
   "execution_count": null,
   "metadata": {},
   "outputs": [],
   "source": [
    "%store -r dic_re\n",
    "# Note: dic_mode is most relevant for energy and carbon intensities. We may want to use a different mapping for mode share.\n",
    "dic_mode = dic_re.copy()\n",
    "\n",
    "# Add old mode labels.\n",
    "old_mode_labels = {\"Bike\": \"Regular Bike\", \"e-bike\": \"Pilot ebike\",\n",
    "                    \"Drove Alone\": \"Gas Car, drove alone\", \n",
    "                    \"Shared Ride\": \"Gas Car, with others\", \n",
    "                    \"taxi\": \"Taxi/Uber/Lyft\",\n",
    "                    \"Air\": \"Air\"}\n",
    "\n",
    "dic_mode.update(old_mode_labels)\n",
    "\n",
    "# Add the mode labels from the energy intensity csv just in case.\n",
    "dic_mode.update({m:m for m in df_EI['mode']}) \n",
    "\n",
    "# Add the ground truth labels from mobilitynet.\n",
    "mobilitynet_gis_gt = {\n",
    "    \"walking\": \"Walk\",\n",
    "    \"bicycling\": \"Regular Bike\",\n",
    "    \"escooter\": \"Scooter share\",\n",
    "    \"car\": \"Gas Car, drove alone\",  # car BTU: 5170,     #1 BTU = 0.000293071 kWH\n",
    "    \"bus\": \"Bus\",  # bus BTU: 4560\n",
    "    \"subway\": \"Train\",     # using train value\n",
    "    \"light_rail\": \"Train\",  # using train value\n",
    "    \"train\": \"Train\",\n",
    "    \"no_gt\": \"no_gt\"\n",
    "}\n",
    "\n",
    "# Add other label assist labels\n",
    "la_mode = {'air': \"Air\",  \n",
    "    'car': \"Gas Car, drove alone\",\n",
    "    'electric_vehicle': \"E-car, drove alone\",\n",
    "    'skiing': \"Walk\",\n",
    "    'snowboarding': \"Walk\",\n",
    "    'subway': \"Train\" } \n",
    "\n",
    "dic_mode.update(la_mode)\n",
    "dic_mode.update(mobilitynet_gis_gt)\n",
    "\n",
    "#dic_mode = defaultdict(lambda: 'Other',dic_mode)"
   ]
  }
 ],
 "metadata": {
  "kernelspec": {
   "display_name": "Python 3.8.9 64-bit",
   "language": "python",
   "name": "python3"
  },
  "language_info": {
   "name": "python",
   "version": "3.8.9"
  },
  "orig_nbformat": 4,
  "vscode": {
   "interpreter": {
    "hash": "31f2aee4e71d21fbe5cf8b01ff0e069b9275f58929596ceb00d14d90e3e16cd6"
   }
  }
 },
 "nbformat": 4,
 "nbformat_minor": 2
}
