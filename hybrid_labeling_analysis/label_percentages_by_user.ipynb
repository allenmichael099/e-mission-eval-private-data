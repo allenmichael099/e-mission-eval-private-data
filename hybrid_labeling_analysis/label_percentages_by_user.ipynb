{
 "cells": [
  {
   "cell_type": "code",
   "execution_count": 1,
   "metadata": {},
   "outputs": [],
   "source": [
    "import sys\n",
    "sys.path.insert(0,\"/Users/mallen2/OpenPATH_Data/e-mission-server\")"
   ]
  },
  {
   "cell_type": "code",
   "execution_count": 9,
   "metadata": {},
   "outputs": [],
   "source": [
    "import emission.core.get_database as edb\n",
    "import emission.storage.timeseries.abstract_timeseries as esta\n",
    "#import emission.storage.timeseries.aggregate_timeseries as estag\n",
    "#agts = estag.AggregateTimeSeries() "
   ]
  },
  {
   "cell_type": "code",
   "execution_count": 10,
   "metadata": {},
   "outputs": [
    {
     "name": "stdout",
     "output_type": "stream",
     "text": [
      "Programs all: {'ens': 163, 'before_after': 116, 'only_after': 47, 'vail': 6, 'sc': 16, '4c': 16, 'fc': 32, 'pc': 41, 'stage': 82, 'cc': 52}\n",
      "Programs some: {'ens': 163, 'vail': 6, 'sc': 16, '4c': 16, 'fc': 32, 'pc': 41, 'stage': 82, 'cc': 52}\n"
     ]
    }
   ],
   "source": [
    "programs_all = {\"ens\": [], \"before_after\": [], \"only_after\": []}  \n",
    "# This will be a dict where keys are all pilot programs plus \n",
    "# \"ens\" for \"ensemble, no stage\" and \"stage\" for stage; \n",
    "# and values are the users corresponding to each\n",
    "# Late in this process, I added \"before_after\" and \"only_after\": \"only_after\" is an ensemble for the programs \n",
    "# where users were given the app with the update already installed, \n",
    "# and \"before_afer\" is an ensemble for the remaining programs\n",
    "only_after_programs = [\"vail\", \"pc\"]\n",
    "for u in edb.get_uuid_db().find():         # add users to proper locations in programs \n",
    "    program = u[\"user_email\"].split(\"_\")[0]    # This info is in the Stage_uuids collection of the database\n",
    "    uuid = u[\"uuid\"]\n",
    "    u[\"program\"] = program\n",
    "    if program not in programs_all.keys(): programs_all[program] = []\n",
    "    if program != \"stage\":\n",
    "        programs_all[\"ens\"].append(uuid)\n",
    "        if program in only_after_programs:\n",
    "            programs_all[\"only_after\"].append(uuid)\n",
    "        else:\n",
    "            programs_all[\"before_after\"].append(uuid)\n",
    "    programs_all[u[\"program\"]].append(uuid)\n",
    "\n",
    "print(\"Programs all: \"+str({k: len(programs_all[k]) for k in programs_all}))\n",
    "\n",
    "# Ignore the small ensembles in certain cases\n",
    "programs_some = programs_all.copy()\n",
    "programs_some.pop(\"before_after\")\n",
    "programs_some.pop(\"only_after\")\n",
    "print(\"Programs some: \"+str({k: len(programs_some[k]) for k in programs_some}))\n",
    "\n",
    "programs = programs_all  # For backwards compatibility\n",
    "# The upside to this way of doing ensembles is it's really easy. The downside is a given user's data is calculated as many times as that user appears in the list of programs -- so with our current ensembles, we're doing most calculations three times when we only really need to do them once."
   ]
  },
  {
   "cell_type": "code",
   "execution_count": 4,
   "metadata": {},
   "outputs": [
    {
     "data": {
      "text/plain": [
       "245"
      ]
     },
     "execution_count": 4,
     "metadata": {},
     "output_type": "execute_result"
    }
   ],
   "source": [
    "len([doc for doc in edb.get_uuid_db().find()])"
   ]
  },
  {
   "cell_type": "code",
   "execution_count": 13,
   "metadata": {},
   "outputs": [],
   "source": [
    "confirmed_trip_df_map = {}\n",
    "for u in edb.get_uuid_db().find():\n",
    "    uuid = u['uuid']\n",
    "    ts = esta.TimeSeries.get_time_series(uuid)\n",
    "    ct_df = ts.get_data_df(\"analysis/confirmed_trip\") \n",
    "    confirmed_trip_df_map[uuid] = ct_df"
   ]
  },
  {
   "cell_type": "code",
   "execution_count": null,
   "metadata": {},
   "outputs": [],
   "source": [
    "'''labeling_fractions = {}\n",
    "for u in confirmed_trip_df_map:\n",
    "    ct_df = confirmed_trip_df_map[u]\n",
    "    n_user_labels = sum(ct_df['user_input'] != {}) #sum(ct_df['algorithm_chosen'] == 'user_input')\n",
    "\n",
    "    labeling_fractions[u] = user_labels/len(ct_df)\n",
    "\n",
    "    print(f\"Total trips: {len(ct_df)}. Number of labels: {user_labels}. Number inferred: {len(ct_df) - user_labels}\")\n",
    "    print(f\"Labeling fraction: {user_labels/len(ct_df)}\")'''"
   ]
  },
  {
   "cell_type": "code",
   "execution_count": 24,
   "metadata": {},
   "outputs": [
    {
     "name": "stdout",
     "output_type": "stream",
     "text": [
      "Proportion of users with at least 10 labeled trips: {'ens': '132/163=80.98%', 'vail': '6/6=100.00%', 'sc': '12/16=75.00%', '4c': '14/16=87.50%', 'fc': '22/32=68.75%', 'pc': '35/41=85.37%', 'stage': '39/82=47.56%', 'cc': '43/52=82.69%'}\n",
      "\n",
      "Trip labeling proportion overall: {'ens': '50395/111650=45.14%', 'vail': '2040/2821=72.31%', 'sc': '5318/10805=49.22%', '4c': '4382/10121=43.30%', 'fc': '7856/19954=39.37%', 'pc': '11253/27337=41.16%', 'stage': '7334/23821=30.79%', 'cc': '19546/40612=48.13%'}\n",
      "\n",
      "Users with over 200 labeled trips: {'ens': '76/163=46.63%', 'vail': '2/6=33.33%', 'sc': '9/16=56.25%', '4c': '7/16=43.75%', 'fc': '14/32=43.75%', 'pc': '16/41=39.02%', 'stage': '11/82=13.41%', 'cc': '28/52=53.85%'}\n",
      "\n",
      "Users with at least 80% of trips labeled: {'ens': '38/163=23.31%', 'vail': '2/6=33.33%', 'sc': '3/16=18.75%', '4c': '2/16=12.50%', 'fc': '8/32=25.00%', 'pc': '11/41=26.83%', 'stage': '8/82=9.76%', 'cc': '12/52=23.08%'}\n",
      "\n"
     ]
    }
   ],
   "source": [
    "format_frac_percent = lambda num, denom: f\"{num}/{denom}={(num/denom if denom != 0 else float('NaN')):.2%}\"\n",
    "\n",
    "la_user_training_prop = {}\n",
    "program_labeling_prop = {}\n",
    "good_la_model_prop = {}\n",
    "strong_la_model_prop = {}\n",
    "for program in programs_some:\n",
    "    # find the proportion of users who have over ten labeled trips.\n",
    "    #if program == 'ens': continue\n",
    "    trip_sum = 0\n",
    "    labeled_sum = 0\n",
    "    enough_labeled_count = 0\n",
    "    strong_model_count = 0\n",
    "    good_model_count = 0\n",
    "    for u in programs_some[program]:\n",
    "        ct_df = confirmed_trip_df_map[u]\n",
    "        if len(ct_df) == 0: continue\n",
    "        n_user_labels = sum(ct_df['user_input'] != {})\n",
    "\n",
    "        trip_sum += len(ct_df)\n",
    "        labeled_sum += n_user_labels\n",
    "        #n_u_l = sum(ct_df['algorithm_chosen'] == 'user_input')\n",
    "\n",
    "        #assert n_user_labels == n_u_l\n",
    "\n",
    "        if n_user_labels > 10:\n",
    "            enough_labeled_count +=1\n",
    "            if n_user_labels/len(ct_df) >= 0.8:\n",
    "                strong_model_count += 1  # meaning this user has a high proportion of labeled trips\n",
    "        if n_user_labels > 200:\n",
    "            good_model_count += 1\n",
    "    \n",
    "    strong_la_model_prop[program] = format_frac_percent(strong_model_count,len(programs_some[program]))\n",
    "    la_user_training_prop[program] = format_frac_percent(enough_labeled_count,len(programs_some[program]))\n",
    "    program_labeling_prop[program] = format_frac_percent(labeled_sum,trip_sum)\n",
    "\n",
    "    good_la_model_prop[program] = format_frac_percent(good_model_count,len(programs_some[program]))\n",
    "\n",
    "print(f\"Proportion of users with at least 10 labeled trips: {la_user_training_prop}\\n\")\n",
    "print(f\"Trip labeling proportion overall: {program_labeling_prop}\\n\")\n",
    "print(f\"Users with over 200 labeled trips: {good_la_model_prop}\\n\")\n",
    "print(f\"Users with at least 80% of trips labeled: {strong_la_model_prop}\\n\")\n",
    "\n",
    "            "
   ]
  },
  {
   "cell_type": "code",
   "execution_count": null,
   "metadata": {},
   "outputs": [],
   "source": [
    "print(ct_df)"
   ]
  },
  {
   "cell_type": "code",
   "execution_count": null,
   "metadata": {},
   "outputs": [],
   "source": [
    "len(programs_some['ens'])"
   ]
  },
  {
   "cell_type": "code",
   "execution_count": null,
   "metadata": {},
   "outputs": [],
   "source": [
    "for ct_df in confirmed_trip_df_map.values():\n",
    "    print(ct_df.algorithm_chosen.value_counts())"
   ]
  },
  {
   "cell_type": "code",
   "execution_count": null,
   "metadata": {},
   "outputs": [],
   "source": [
    "sum(ct_df['algorithm_chosen'] == 'user_input')"
   ]
  }
 ],
 "metadata": {
  "interpreter": {
   "hash": "73ac5b45931ab4dd3f8e07a8d0e5daf0146eed4821bf42374f6ac6fa4af28c83"
  },
  "kernelspec": {
   "display_name": "Python 3.7.12 ('emission-private-eval')",
   "language": "python",
   "name": "python3"
  },
  "language_info": {
   "codemirror_mode": {
    "name": "ipython",
    "version": 3
   },
   "file_extension": ".py",
   "mimetype": "text/x-python",
   "name": "python",
   "nbconvert_exporter": "python",
   "pygments_lexer": "ipython3",
   "version": "3.7.12"
  },
  "orig_nbformat": 4
 },
 "nbformat": 4,
 "nbformat_minor": 2
}
