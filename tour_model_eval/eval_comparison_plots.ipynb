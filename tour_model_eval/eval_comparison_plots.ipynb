{
 "cells": [
  {
   "cell_type": "code",
   "execution_count": null,
   "id": "81e960fb",
   "metadata": {},
   "outputs": [],
   "source": [
    "import pandas as pd\n",
    "\n",
    "import emission.core.get_database as edb\n",
    "import emission.core.wrapper.entry as ecwe\n",
    "import emission.storage.decorations.analysis_timeseries_queries as esda\n",
    "import emission.storage.decorations.trip_queries as esdt\n",
    "import emission.storage.decorations.timeline as esdl\n",
    "import emission.storage.timeseries.abstract_timeseries as esta\n",
    "import emission.storage.timeseries.timequery as estt\n",
    "from uuid import UUID\n",
    "\n",
    "import matplotlib.pyplot as plt\n",
    "import itertools\n",
    "\n",
    "%matplotlib inline"
   ]
  },
  {
   "cell_type": "code",
   "execution_count": null,
   "id": "c14c719e",
   "metadata": {},
   "outputs": [],
   "source": [
    "font = {'family' : 'normal',\n",
    "        'weight' : 'regular',\n",
    "        'size'   : 18}\n",
    "\n",
    "plt.rc('font', **font)"
   ]
  },
  {
   "cell_type": "code",
   "execution_count": null,
   "id": "48d0a533",
   "metadata": {},
   "outputs": [],
   "source": [
    "import seaborn as sns"
   ]
  },
  {
   "cell_type": "code",
   "execution_count": null,
   "id": "af0d8284",
   "metadata": {},
   "outputs": [],
   "source": [
    "multi_index = pd.MultiIndex.from_product([[\"trips without prediction\", \"accuracy overall\", \"accuracy of trips with predictions\", \"f1 weighted\"], [\"mode\", \"purpose\", \"replaced\"]])"
   ]
  },
  {
   "cell_type": "markdown",
   "id": "6b2ec3e3",
   "metadata": {},
   "source": [
    "### For our multi-index massaging to work properly, please ensure that the first two rows of the csv are modified as follows\n",
    "\n",
    "```\n",
    "ignore,model_name,trips without prediction,...\n",
    "index,model_name,mode,purpose,replaced,...\n",
    "```"
   ]
  },
  {
   "cell_type": "code",
   "execution_count": null,
   "id": "2b3f4bf4",
   "metadata": {},
   "outputs": [],
   "source": [
    "all_eval_results = pd.read_csv(\"/tmp/all_model_results_jul_30_2022.csv\", header=[0,1]).drop(columns=[\"ignore\"])\n",
    "all_eval_results.head()"
   ]
  },
  {
   "cell_type": "code",
   "execution_count": null,
   "id": "fd2e4a55",
   "metadata": {},
   "outputs": [],
   "source": [
    "all_eval_results.set_index(\"model_name\", inplace=True); all_eval_results.head()"
   ]
  },
  {
   "cell_type": "code",
   "execution_count": null,
   "id": "59fb49b9",
   "metadata": {},
   "outputs": [],
   "source": [
    "all_eval_results = all_eval_results.transpose().reset_index()\n",
    "all_eval_results.head()"
   ]
  },
  {
   "cell_type": "code",
   "execution_count": null,
   "id": "d801d393",
   "metadata": {},
   "outputs": [],
   "source": [
    "all_eval_results.rename(columns = {\"level_0\": \"metric\", \"level_1\": \"label_type\"}, inplace=True)\n",
    "all_eval_results.head()"
   ]
  },
  {
   "cell_type": "code",
   "execution_count": null,
   "id": "7a610784",
   "metadata": {},
   "outputs": [],
   "source": [
    "def remove_brackets(cn):\n",
    "    if type(cn) == tuple:\n",
    "        return cn[0]\n",
    "    else:\n",
    "        return cn\n",
    "    \n",
    "print(remove_brackets(\"abc\"))\n",
    "print(remove_brackets(\"[abc]\"))\n",
    "print(remove_brackets((\"abc\")))\n",
    "print(remove_brackets((\"abc\",)))"
   ]
  },
  {
   "cell_type": "code",
   "execution_count": null,
   "id": "84be38aa",
   "metadata": {},
   "outputs": [],
   "source": [
    "all_eval_results = all_eval_results.rename(mapper=lambda cn: remove_brackets(cn), axis=1)\n",
    "all_eval_results.head()"
   ]
  },
  {
   "cell_type": "code",
   "execution_count": null,
   "id": "a540cd85",
   "metadata": {},
   "outputs": [],
   "source": [
    "all_eval_results.set_index(\"label_type\", inplace=True)\n",
    "all_eval_results.head()"
   ]
  },
  {
   "cell_type": "code",
   "execution_count": null,
   "id": "73533f6e",
   "metadata": {},
   "outputs": [],
   "source": [
    "all_eval_results.drop(columns=[\"adaboost basic\", \"random forest with start end r150m\", \"random forest with start end trip r150m\", \"final random forest with clustering\"], inplace=True)\n",
    "all_eval_results.head()"
   ]
  },
  {
   "cell_type": "code",
   "execution_count": null,
   "id": "4a30e997",
   "metadata": {},
   "outputs": [],
   "source": [
    "metrics_list = list(all_eval_results.groupby(\"metric\").groups.keys())\n",
    "ax_list = all_eval_results.groupby(\"metric\").plot(kind=\"bar\", legend=False)\n",
    "ax_list.apply(lambda ax: ax.legend(loc=\"upper left\", bbox_to_anchor=(1, 1)))\n",
    "for ax, key in zip(ax_list, metrics_list):\n",
    "    ax.set_title(key)"
   ]
  },
  {
   "cell_type": "code",
   "execution_count": null,
   "id": "6fb0e068",
   "metadata": {},
   "outputs": [],
   "source": []
  },
  {
   "cell_type": "code",
   "execution_count": null,
   "id": "f83639aa",
   "metadata": {},
   "outputs": [],
   "source": [
    "all_eval_results = all_eval_results[all_eval_results.metric != \"trips without prediction\"]\n",
    "all_eval_results = all_eval_results[all_eval_results.metric != \"accuracy of trips w predictions\"]\n",
    "all_eval_results.head()"
   ]
  },
  {
   "cell_type": "code",
   "execution_count": null,
   "id": "ffc6c67d",
   "metadata": {},
   "outputs": [],
   "source": [
    "font = {'family' : 'normal',\n",
    "        'weight' : 'regular',\n",
    "        'size'   : 24}\n",
    "\n",
    "plt.rc('font', **font)"
   ]
  },
  {
   "cell_type": "code",
   "execution_count": null,
   "id": "500fe7e0",
   "metadata": {},
   "outputs": [],
   "source": [
    "\n",
    "fig, ax_arr = plt.subplots(nrows=1, ncols=2, sharex=True, sharey=True, figsize=(20,8), dpi=400)\n",
    "# ax_list = list(itertools.chain.from_iterable(ax_arr))\n",
    "ax_list = ax_arr\n",
    "for i, (metric, result_df) in enumerate(all_eval_results[all_eval_results.metric != \"trips without prediction\"].groupby(\"metric\")):\n",
    "    print(f\"plotting {metric} at location {i}\")\n",
    "    # print(result_df)\n",
    "    result_df.plot(kind=\"bar\", ax=ax_list[i], title=metric, legend=False, ylim=(0,1))\n",
    "fig.suptitle(\"Comparing the prediction accuracy of clustering and classification algorithms\")\n",
    "ax_list[1].legend(loc=\"lower center\", bbox_to_anchor=(-0.2, 1.2))"
   ]
  },
  {
   "cell_type": "code",
   "execution_count": null,
   "id": "c53788ae",
   "metadata": {},
   "outputs": [],
   "source": [
    "fig, ax_arr = plt.subplots(nrows=1, ncols=2, sharex=True, sharey=True, figsize=(20,5))\n",
    "# ax_list = list(itertools.chain.from_iterable(ax_arr))\n",
    "ax_list = ax_arr\n",
    "for i, (metric, result_df) in enumerate(all_eval_results[all_eval_results.metric != \"trips without prediction\"].groupby(\"metric\")):\n",
    "    print(f\"plotting {metric} at location {i}\")\n",
    "    # print(result_df)\n",
    "    result_df.plot(kind=\"line\", ax=ax_list[i], title=metric, legend=False, ylim=(0,1))\n",
    "ax_list[1].legend(loc=\"upper left\", bbox_to_anchor=(1, 1))"
   ]
  },
  {
   "cell_type": "code",
   "execution_count": null,
   "id": "1186287d",
   "metadata": {},
   "outputs": [],
   "source": []
  }
 ],
 "metadata": {
  "kernelspec": {
   "display_name": "Python 3",
   "language": "python",
   "name": "python3"
  },
  "language_info": {
   "codemirror_mode": {
    "name": "ipython",
    "version": 3
   },
   "file_extension": ".py",
   "mimetype": "text/x-python",
   "name": "python",
   "nbconvert_exporter": "python",
   "pygments_lexer": "ipython3",
   "version": "3.7.9"
  }
 },
 "nbformat": 4,
 "nbformat_minor": 5
}
